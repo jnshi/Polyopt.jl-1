{
 "cells": [
  {
   "cell_type": "markdown",
   "metadata": {},
   "source": [
    "# Sparse polynomial optimization using correlative sparsity"
   ]
  },
  {
   "cell_type": "markdown",
   "metadata": {},
   "source": [
    "## A motivating toy example"
   ]
  },
  {
   "cell_type": "markdown",
   "metadata": {},
   "source": [
    "One approach for exploiting sparsity in polynomial optimization is based on <i>correlative sparsity</i> and proposed by Waki, Kim, Kojima and Muramatsu. We motivate this approach by considering the following problem,"
   ]
  },
  {
   "cell_type": "markdown",
   "metadata": {},
   "source": [
    "\\begin{array}{ll}\n",
    "\\text{minimize}   & x_1 - x_2 + x_3 - (x_1^3 + x_2^3 + x_3^3)\\\\\n",
    "\\text{subject to} & -1 \\leq x_1 x_2 \\leq 1\\\\\n",
    "                  & -1 \\leq x_2 x_3 \\leq 1\\\\\n",
    "                  & x_1^2 \\leq 1\\\\\n",
    "                  & x_2^2 \\leq 1\\\\\n",
    "                  & x_3^2 \\leq 1\\\\\n",
    "\\end{array}"
   ]
  },
  {
   "cell_type": "markdown",
   "metadata": {},
   "source": [
    "We first setup and solve the standard second-order moment relaxation"
   ]
  },
  {
   "cell_type": "code",
   "execution_count": 133,
   "metadata": {},
   "outputs": [
    {
     "name": "stderr",
     "output_type": "stream",
     "text": [
      "WARNING: replacing module Polyopt.\n",
      "WARNING: could not import Base.sub into Polyopt\n"
     ]
    },
    {
     "data": {
      "text/plain": [
       "Main.Polyopt"
      ]
     },
     "execution_count": 133,
     "metadata": {},
     "output_type": "execute_result"
    }
   ],
   "source": [
    "include(\"..\\\\src\\\\Polyopt.jl\")"
   ]
  },
  {
   "cell_type": "code",
   "execution_count": 134,
   "metadata": {},
   "outputs": [],
   "source": [
    "x1,x2,x3 = Polyopt.variables([\"x1\",\"x2\",\"x3\"]);"
   ]
  },
  {
   "cell_type": "code",
   "execution_count": 135,
   "metadata": {},
   "outputs": [],
   "source": [
    "f = x1-x2+x3 - (x1^3+x2^3+x3^3);"
   ]
  },
  {
   "cell_type": "code",
   "execution_count": 136,
   "metadata": {},
   "outputs": [],
   "source": [
    " g = [-1-x1*x2, 1-x1*x2,\n",
    "      -1-x2*x3, 1-x2*x3,\n",
    "       1-x1^2,\n",
    "       1-x2^2,\n",
    "       1-x3^2 ];"
   ]
  },
  {
   "cell_type": "code",
   "execution_count": 137,
   "metadata": {},
   "outputs": [],
   "source": [
    "prob = Polyopt.momentprob(2, f, g);"
   ]
  },
  {
   "cell_type": "code",
   "execution_count": 138,
   "metadata": {},
   "outputs": [
    {
     "name": "stdout",
     "output_type": "stream",
     "text": [
      "Open file 'polyopt.task'\n",
      "Problem\n",
      "  Name                   :                 \n",
      "  Objective sense        : max             \n",
      "  Type                   : CONIC (conic optimization problem)\n",
      "  Constraints            : 35              \n",
      "  Cones                  : 0               \n",
      "  Scalar variables       : 1               \n",
      "  Matrix variables       : 8               \n",
      "  Integer variables      : 0               \n",
      "\n",
      "Optimizer started.\n",
      "Presolve started.\n",
      "Linear dependency checker started.\n",
      "Linear dependency checker terminated.\n",
      "Eliminator started.\n",
      "Freed constraints in eliminator : 0\n",
      "Eliminator terminated.\n",
      "Eliminator - tries                  : 1                 time                   : 0.00            \n",
      "Lin. dep.  - tries                  : 1                 time                   : 0.02            \n",
      "Lin. dep.  - number                 : 0               \n",
      "Presolve terminated. Time: 0.05    \n",
      "Problem\n",
      "  Name                   :                 \n",
      "  Objective sense        : max             \n",
      "  Type                   : CONIC (conic optimization problem)\n",
      "  Constraints            : 35              \n",
      "  Cones                  : 0               \n",
      "  Scalar variables       : 1               \n",
      "  Matrix variables       : 8               \n",
      "  Integer variables      : 0               \n",
      "\n",
      "Optimizer  - threads                : 4               \n",
      "Optimizer  - solved problem         : the primal      \n",
      "Optimizer  - Constraints            : 35\n",
      "Optimizer  - Cones                  : 1\n",
      "Optimizer  - Scalar variables       : 2                 conic                  : 2               \n",
      "Optimizer  - Semi-definite variables: 8                 scalarized             : 125             \n",
      "Factor     - setup time             : 0.00              dense det. time        : 0.00            \n",
      "Factor     - ML order time          : 0.00              GP order time          : 0.00            \n",
      "Factor     - nonzeros before factor : 630               after factor           : 630             \n",
      "Factor     - dense dim.             : 0                 flops                  : 3.22e+04        \n",
      "ITE PFEAS    DFEAS    GFEAS    PRSTATUS   POBJ              DOBJ              MU       TIME  \n",
      "0   4.0e+00  1.0e+00  1.0e+00  0.00e+00   0.000000000e+00   0.000000000e+00   1.0e+00  0.05  \n",
      "1   7.5e-01  1.9e-01  1.5e-01  9.86e-02   6.983593587e-02   -2.689428125e-01  1.9e-01  0.09  \n",
      "2   1.3e-01  3.2e-02  2.4e-02  -8.46e-02  -3.752456365e-02  -5.018030372e-01  3.2e-02  0.09  \n",
      "3   2.2e-02  5.6e-03  1.8e-03  7.26e-01   -1.750653219e+00  -1.832230908e+00  5.6e-03  0.09  \n",
      "4   6.2e-04  1.6e-04  8.1e-06  9.80e-01   -1.995403808e+00  -1.997547547e+00  1.6e-04  0.09  \n",
      "5   2.4e-05  6.0e-06  5.9e-08  1.01e+00   -1.999875052e+00  -1.999949321e+00  6.0e-06  0.09  \n",
      "6   6.0e-07  1.5e-07  2.1e-10  1.02e+00   -1.999997848e+00  -1.999999282e+00  1.5e-07  0.09  \n",
      "7   2.6e-08  6.4e-09  1.8e-12  1.02e+00   -1.999999918e+00  -1.999999973e+00  6.4e-09  0.09  \n",
      "8   4.0e-10  2.5e-10  4.5e-15  1.00e+00   -1.999999998e+00  -1.999999999e+00  1.2e-10  0.09  \n",
      "9   2.3e-12  2.0e-08  1.9e-18  1.00e+00   -2.000000000e+00  -2.000000000e+00  6.9e-13  0.09  \n",
      "Optimizer terminated. Time: 0.14    \n",
      "\n",
      "\n",
      "Interior-point solution summary\n",
      "  Problem status  : PRIMAL_AND_DUAL_FEASIBLE\n",
      "  Solution status : OPTIMAL\n",
      "  Primal.  obj: -2.0000000000e+00   nrm: 5e+00    Viol.  con: 8e-12    var: 0e+00    barvar: 0e+00  \n",
      "  Dual.    obj: -2.0000000000e+00   nrm: 2e+00    Viol.  con: 0e+00    var: 6e-13    barvar: 9e-13  \n"
     ]
    }
   ],
   "source": [
    "X, Z, t, y, solsta = Polyopt.solve_mosek(prob);"
   ]
  },
  {
   "cell_type": "markdown",
   "metadata": {},
   "source": [
    "We inspect the solution"
   ]
  },
  {
   "cell_type": "code",
   "execution_count": 139,
   "metadata": {},
   "outputs": [
    {
     "data": {
      "text/plain": [
       "35×2 Array{Main.Polyopt.Poly{Float64},2}:\n",
       " 1.0         1.0\n",
       " x3          -1.0\n",
       " x3^2        1.0\n",
       " x3^3        -1.0\n",
       " x3^4        1.0\n",
       " x2          1.0\n",
       " x2*x3       -1.0\n",
       " x2*x3^2     1.0\n",
       " x2*x3^3     -1.0\n",
       " x2^2        1.0\n",
       " x2^2*x3     -1.0\n",
       " x2^2*x3^2   1.0\n",
       " x2^3        1.0\n",
       " ⋮           \n",
       " x1*x2^2*x3  1.0\n",
       " x1*x2^3     -1.0\n",
       " x1^2        1.0\n",
       " x1^2*x3     -1.0\n",
       " x1^2*x3^2   1.0\n",
       " x1^2*x2     1.0\n",
       " x1^2*x2*x3  -1.0\n",
       " x1^2*x2^2   1.0\n",
       " x1^3        -1.0\n",
       " x1^3*x3     1.0\n",
       " x1^3*x2     -1.0\n",
       " x1^4        1.0"
      ]
     },
     "execution_count": 139,
     "metadata": {},
     "output_type": "execute_result"
    }
   ],
   "source": [
    "[ prob.basis y ]"
   ]
  },
  {
   "cell_type": "markdown",
   "metadata": {},
   "source": [
    "which is feasible"
   ]
  },
  {
   "cell_type": "code",
   "execution_count": 140,
   "metadata": {},
   "outputs": [
    {
     "data": {
      "text/plain": [
       "3-element Array{Float64,1}:\n",
       " -0.9999999999976845\n",
       "  0.9999999999978969\n",
       " -0.9999999999976845"
      ]
     },
     "execution_count": 140,
     "metadata": {},
     "output_type": "execute_result"
    }
   ],
   "source": [
    "xo = Polyopt.vectorize([x1,x2,x3],4)*y"
   ]
  },
  {
   "cell_type": "code",
   "execution_count": 141,
   "metadata": {},
   "outputs": [
    {
     "data": {
      "text/plain": [
       "7-element Array{Float64,1}:\n",
       " -4.4185766157056605e-12\n",
       "  1.9999999999955813\n",
       " -4.4185766157056605e-12\n",
       "  1.9999999999955813\n",
       "  4.630962280316453e-12\n",
       "  4.206190951094868e-12\n",
       "  4.630962280316453e-12"
      ]
     },
     "execution_count": 141,
     "metadata": {},
     "output_type": "execute_result"
    }
   ],
   "source": [
    "[ Polyopt.evalpoly(gi, xo) for gi=g ]"
   ]
  },
  {
   "cell_type": "markdown",
   "metadata": {},
   "source": [
    "so we have found an optimal solution."
   ]
  },
  {
   "cell_type": "markdown",
   "metadata": {},
   "source": [
    "## Correlative sparsity"
   ]
  },
  {
   "cell_type": "markdown",
   "metadata": {},
   "source": [
    "The correlative sparsity pattern $C$ is a symmetric matrix with the number variables as dimension.\n",
    "An element $C_{ij}$ is nonzero if either\n",
    "* $i=j$, i.e., we include the diagonal.\n",
    "* $x_i$ and $x_j$ appear in the same term of the objective function.\n",
    "* $x_i$ and $x_j$ both appear in a constraint $g(x)\\geq 0$ or $h(x)=0$."
   ]
  },
  {
   "cell_type": "markdown",
   "metadata": {},
   "source": [
    "For the simple example, let us recall"
   ]
  },
  {
   "cell_type": "code",
   "execution_count": 142,
   "metadata": {},
   "outputs": [
    {
     "data": {
      "text/plain": [
       "x3-x3^3-x2-x2^3+x1-x1^3"
      ]
     },
     "execution_count": 142,
     "metadata": {},
     "output_type": "execute_result"
    }
   ],
   "source": [
    "f"
   ]
  },
  {
   "cell_type": "code",
   "execution_count": 143,
   "metadata": {},
   "outputs": [
    {
     "data": {
      "text/plain": [
       "7-element Array{Main.Polyopt.Poly{Int64},1}:\n",
       " -1-x1*x2\n",
       " 1-x1*x2\n",
       " -1-x2*x3\n",
       " 1-x2*x3\n",
       " 1-x1^2\n",
       " 1-x2^2\n",
       " 1-x3^2"
      ]
     },
     "execution_count": 143,
     "metadata": {},
     "output_type": "execute_result"
    }
   ],
   "source": [
    "g"
   ]
  },
  {
   "cell_type": "markdown",
   "metadata": {},
   "source": [
    "Let us compute the correlative sparsity pattern"
   ]
  },
  {
   "cell_type": "code",
   "execution_count": 144,
   "metadata": {},
   "outputs": [],
   "source": [
    "C = Polyopt.correlative_sparsity(f, g);"
   ]
  },
  {
   "cell_type": "code",
   "execution_count": 145,
   "metadata": {},
   "outputs": [
    {
     "data": {
      "text/plain": [
       "3×3 Array{Int64,2}:\n",
       " 1  1  0\n",
       " 1  1  1\n",
       " 0  1  1"
      ]
     },
     "execution_count": 145,
     "metadata": {},
     "output_type": "execute_result"
    }
   ],
   "source": [
    "Matrix(C)"
   ]
  },
  {
   "cell_type": "markdown",
   "metadata": {},
   "source": [
    "This is a <i>chordal</i> matrix with 2 cliques,"
   ]
  },
  {
   "cell_type": "code",
   "execution_count": 146,
   "metadata": {},
   "outputs": [
    {
     "data": {
      "text/plain": [
       "2-element Array{Array{Int64,1},1}:\n",
       " [1, 2]\n",
       " [2, 3]"
      ]
     },
     "execution_count": 146,
     "metadata": {},
     "output_type": "execute_result"
    }
   ],
   "source": [
    "K = Array{Int,1}[ [1,2], [2,3] ]"
   ]
  },
  {
   "cell_type": "markdown",
   "metadata": {},
   "source": [
    "## A weaker chordal moment relaxation formed over the cliques "
   ]
  },
  {
   "cell_type": "markdown",
   "metadata": {},
   "source": [
    "In the standard moment relaxation we consider a monomial basis vector"
   ]
  },
  {
   "cell_type": "code",
   "execution_count": 147,
   "metadata": {},
   "outputs": [
    {
     "data": {
      "text/plain": [
       "10-element Array{Main.Polyopt.Poly{Int64},1}:\n",
       " 1\n",
       " x3\n",
       " x3^2\n",
       " x2\n",
       " x2*x3\n",
       " x2^2\n",
       " x1\n",
       " x1*x3\n",
       " x1*x2\n",
       " x1^2"
      ]
     },
     "execution_count": 147,
     "metadata": {},
     "output_type": "execute_result"
    }
   ],
   "source": [
    "u = Polyopt.monomials(2, [x1,x2,x3])"
   ]
  },
  {
   "cell_type": "markdown",
   "metadata": {},
   "source": [
    "and the second-order moment matrix $M_2(y)\\succeq 0$ corresponds to"
   ]
  },
  {
   "cell_type": "code",
   "execution_count": 148,
   "metadata": {},
   "outputs": [
    {
     "data": {
      "text/plain": [
       "10×10 Array{Main.Polyopt.Poly{Int64},2}:\n",
       " 1      x3        x3^2        x2        …  x1*x3       x1*x2       x1^2\n",
       " x3     x3^2      x3^3        x2*x3        x1*x3^2     x1*x2*x3    x1^2*x3\n",
       " x3^2   x3^3      x3^4        x2*x3^2      x1*x3^3     x1*x2*x3^2  x1^2*x3^2\n",
       " x2     x2*x3     x2*x3^2     x2^2         x1*x2*x3    x1*x2^2     x1^2*x2\n",
       " x2*x3  x2*x3^2   x2*x3^3     x2^2*x3      x1*x2*x3^2  x1*x2^2*x3  x1^2*x2*x3\n",
       " x2^2   x2^2*x3   x2^2*x3^2   x2^3      …  x1*x2^2*x3  x1*x2^3     x1^2*x2^2\n",
       " x1     x1*x3     x1*x3^2     x1*x2        x1^2*x3     x1^2*x2     x1^3\n",
       " x1*x3  x1*x3^2   x1*x3^3     x1*x2*x3     x1^2*x3^2   x1^2*x2*x3  x1^3*x3\n",
       " x1*x2  x1*x2*x3  x1*x2*x3^2  x1*x2^2      x1^2*x2*x3  x1^2*x2^2   x1^3*x2\n",
       " x1^2   x1^2*x3   x1^2*x3^2   x1^2*x2      x1^3*x3     x1^3*x2     x1^4"
      ]
     },
     "execution_count": 148,
     "metadata": {},
     "output_type": "execute_result"
    }
   ],
   "source": [
    "u*u'"
   ]
  },
  {
   "cell_type": "markdown",
   "metadata": {},
   "source": [
    "In the chordal relaxation we consider basis vectors formed over the cliques"
   ]
  },
  {
   "cell_type": "code",
   "execution_count": 149,
   "metadata": {},
   "outputs": [
    {
     "data": {
      "text/plain": [
       "2-element Array{Array{Main.Polyopt.Poly{Int64},1},1}:\n",
       " [1, x2, x2^2, x1, x1*x2, x1^2]\n",
       " [1, x3, x3^2, x2, x2*x3, x2^2]"
      ]
     },
     "execution_count": 149,
     "metadata": {},
     "output_type": "execute_result"
    }
   ],
   "source": [
    "uk = [ Polyopt.monomials(2, [x1,x2,x3][ki]) for ki=K ]"
   ]
  },
  {
   "cell_type": "markdown",
   "metadata": {},
   "source": [
    "and the moment constraint $M_2(y)\\succeq 0$ is replaced by two smaller constraints $M_2(y, K_i)\\succeq 0$ corresponding to"
   ]
  },
  {
   "cell_type": "code",
   "execution_count": 150,
   "metadata": {},
   "outputs": [
    {
     "data": {
      "text/plain": [
       "6×6 Array{Main.Polyopt.Poly{Int64},2}:\n",
       " 1      x2       x2^2       x1       x1*x2      x1^2\n",
       " x2     x2^2     x2^3       x1*x2    x1*x2^2    x1^2*x2\n",
       " x2^2   x2^3     x2^4       x1*x2^2  x1*x2^3    x1^2*x2^2\n",
       " x1     x1*x2    x1*x2^2    x1^2     x1^2*x2    x1^3\n",
       " x1*x2  x1*x2^2  x1*x2^3    x1^2*x2  x1^2*x2^2  x1^3*x2\n",
       " x1^2   x1^2*x2  x1^2*x2^2  x1^3     x1^3*x2    x1^4"
      ]
     },
     "execution_count": 150,
     "metadata": {},
     "output_type": "execute_result"
    }
   ],
   "source": [
    "uk[1]*uk[1]'"
   ]
  },
  {
   "cell_type": "code",
   "execution_count": 151,
   "metadata": {},
   "outputs": [
    {
     "data": {
      "text/plain": [
       "6×6 Array{Main.Polyopt.Poly{Int64},2}:\n",
       " 1      x3       x3^2       x2       x2*x3      x2^2\n",
       " x3     x3^2     x3^3       x2*x3    x2*x3^2    x2^2*x3\n",
       " x3^2   x3^3     x3^4       x2*x3^2  x2*x3^3    x2^2*x3^2\n",
       " x2     x2*x3    x2*x3^2    x2^2     x2^2*x3    x2^3\n",
       " x2*x3  x2*x3^2  x2*x3^3    x2^2*x3  x2^2*x3^2  x2^3*x3\n",
       " x2^2   x2^2*x3  x2^2*x3^2  x2^3     x2^3*x3    x2^4"
      ]
     },
     "execution_count": 151,
     "metadata": {},
     "output_type": "execute_result"
    }
   ],
   "source": [
    "uk[2]*uk[2]'"
   ]
  },
  {
   "cell_type": "markdown",
   "metadata": {},
   "source": [
    "Similarly we consider the <i>localization matrices</i> for $g_i(x)\\geq 0$. For the standard second-order moment relexation we have"
   ]
  },
  {
   "cell_type": "code",
   "execution_count": 152,
   "metadata": {},
   "outputs": [
    {
     "data": {
      "text/plain": [
       "4-element Array{Main.Polyopt.Poly{Int64},1}:\n",
       " 1\n",
       " x3\n",
       " x2\n",
       " x1"
      ]
     },
     "execution_count": 152,
     "metadata": {},
     "output_type": "execute_result"
    }
   ],
   "source": [
    "v = Polyopt.monomials(1, [x1,x2,x3])"
   ]
  },
  {
   "cell_type": "code",
   "execution_count": 153,
   "metadata": {},
   "outputs": [
    {
     "data": {
      "text/plain": [
       "-1-x1*x2"
      ]
     },
     "execution_count": 153,
     "metadata": {},
     "output_type": "execute_result"
    }
   ],
   "source": [
    "g[1]"
   ]
  },
  {
   "cell_type": "markdown",
   "metadata": {},
   "source": [
    "and the localization matrix for $g_1(x) \\geq 0$ is $M_1(g_1 y)\\succeq 0$ corresponding to"
   ]
  },
  {
   "cell_type": "code",
   "execution_count": 154,
   "metadata": {},
   "outputs": [
    {
     "data": {
      "text/plain": [
       "4×4 Array{Main.Polyopt.Poly{Int64},2}:\n",
       " -1-x1*x2      -x3-x1*x2*x3       -x2-x1*x2^2        -x1-x1^2*x2\n",
       " -x3-x1*x2*x3  -x3^2-x1*x2*x3^2   -x2*x3-x1*x2^2*x3  -x1*x3-x1^2*x2*x3\n",
       " -x2-x1*x2^2   -x2*x3-x1*x2^2*x3  -x2^2-x1*x2^3      -x1*x2-x1^2*x2^2\n",
       " -x1-x1^2*x2   -x1*x3-x1^2*x2*x3  -x1*x2-x1^2*x2^2   -x1^2-x1^3*x2"
      ]
     },
     "execution_count": 154,
     "metadata": {},
     "output_type": "execute_result"
    }
   ],
   "source": [
    "g[1]*v*v'"
   ]
  },
  {
   "cell_type": "markdown",
   "metadata": {},
   "source": [
    "In the chordal relaxation we have"
   ]
  },
  {
   "cell_type": "code",
   "execution_count": 155,
   "metadata": {},
   "outputs": [
    {
     "data": {
      "text/plain": [
       "2-element Array{Array{Main.Polyopt.Poly{Int64},1},1}:\n",
       " [1, x2, x1]\n",
       " [1, x3, x2]"
      ]
     },
     "execution_count": 155,
     "metadata": {},
     "output_type": "execute_result"
    }
   ],
   "source": [
    "vk = [ Polyopt.monomials(1, [x1,x2,x3][ki]) for ki=K ]"
   ]
  },
  {
   "cell_type": "markdown",
   "metadata": {},
   "source": [
    "and we replace $M_1(g_1 y)\\succeq 0$ by $M_1(g_1 y, K_1)\\succeq 0$ corresponding to"
   ]
  },
  {
   "cell_type": "code",
   "execution_count": 156,
   "metadata": {},
   "outputs": [
    {
     "data": {
      "text/plain": [
       "3×3 Array{Main.Polyopt.Poly{Int64},2}:\n",
       " -1-x1*x2     -x2-x1*x2^2       -x1-x1^2*x2\n",
       " -x2-x1*x2^2  -x2^2-x1*x2^3     -x1*x2-x1^2*x2^2\n",
       " -x1-x1^2*x2  -x1*x2-x1^2*x2^2  -x1^2-x1^3*x2"
      ]
     },
     "execution_count": 156,
     "metadata": {},
     "output_type": "execute_result"
    }
   ],
   "source": [
    "g[1]*vk[1]*vk[1]'"
   ]
  },
  {
   "cell_type": "markdown",
   "metadata": {},
   "source": [
    "Similarly we replace $M_1(g_2y)$ by"
   ]
  },
  {
   "cell_type": "code",
   "execution_count": 157,
   "metadata": {},
   "outputs": [
    {
     "data": {
      "text/plain": [
       "3×3 Array{Main.Polyopt.Poly{Int64},2}:\n",
       " 1-x1*x2     x2-x1*x2^2       x1-x1^2*x2\n",
       " x2-x1*x2^2  x2^2-x1*x2^3     x1*x2-x1^2*x2^2\n",
       " x1-x1^2*x2  x1*x2-x1^2*x2^2  x1^2-x1^3*x2"
      ]
     },
     "execution_count": 157,
     "metadata": {},
     "output_type": "execute_result"
    }
   ],
   "source": [
    "g[2]*vk[1]*vk[1]'"
   ]
  },
  {
   "cell_type": "markdown",
   "metadata": {},
   "source": [
    "and so on. The function $g_6(x)=1-x_2^2$ belongs to both clique 1 and 2, so we replace $M_1(g_6 y)\\succeq 0$ by two smaller inequalities"
   ]
  },
  {
   "cell_type": "code",
   "execution_count": 158,
   "metadata": {},
   "outputs": [
    {
     "data": {
      "text/plain": [
       "3×3 Array{Main.Polyopt.Poly{Int64},2}:\n",
       " 1-x2^2      x2-x2^3        x1-x1*x2^2\n",
       " x2-x2^3     x2^2-x2^4      x1*x2-x1*x2^3\n",
       " x1-x1*x2^2  x1*x2-x1*x2^3  x1^2-x1^2*x2^2"
      ]
     },
     "execution_count": 158,
     "metadata": {},
     "output_type": "execute_result"
    }
   ],
   "source": [
    "g[6]*vk[1]*vk[1]'"
   ]
  },
  {
   "cell_type": "markdown",
   "metadata": {},
   "source": [
    "and"
   ]
  },
  {
   "cell_type": "code",
   "execution_count": 159,
   "metadata": {},
   "outputs": [
    {
     "data": {
      "text/plain": [
       "3×3 Array{Main.Polyopt.Poly{Int64},2}:\n",
       " 1-x2^2      x3-x2^2*x3      x2-x2^3\n",
       " x3-x2^2*x3  x3^2-x2^2*x3^2  x2*x3-x2^3*x3\n",
       " x2-x2^3     x2*x3-x2^3*x3   x2^2-x2^4"
      ]
     },
     "execution_count": 159,
     "metadata": {},
     "output_type": "execute_result"
    }
   ],
   "source": [
    "g[6]*vk[2]*vk[2]'"
   ]
  },
  {
   "cell_type": "markdown",
   "metadata": {},
   "source": [
    "## Solving the chordal moment relaxation"
   ]
  },
  {
   "cell_type": "markdown",
   "metadata": {},
   "source": [
    "We form the chordal moment relaxation as"
   ]
  },
  {
   "cell_type": "code",
   "execution_count": 160,
   "metadata": {},
   "outputs": [],
   "source": [
    "probc = Polyopt.momentprob_chordal(2, K, f, g);"
   ]
  },
  {
   "cell_type": "markdown",
   "metadata": {},
   "source": [
    "and we solve it as"
   ]
  },
  {
   "cell_type": "code",
   "execution_count": 161,
   "metadata": {},
   "outputs": [
    {
     "name": "stdout",
     "output_type": "stream",
     "text": [
      "Open file 'polyopt.task'\n",
      "Problem\n",
      "  Name                   :                 \n",
      "  Objective sense        : max             \n",
      "  Type                   : CONIC (conic optimization problem)\n",
      "  Constraints            : 25              \n",
      "  Cones                  : 0               \n",
      "  Scalar variables       : 1               \n",
      "  Matrix variables       : 10              \n",
      "  Integer variables      : 0               \n",
      "\n",
      "Optimizer started.\n",
      "Presolve started.\n",
      "Linear dependency checker started.\n",
      "Linear dependency checker terminated.\n",
      "Eliminator started.\n",
      "Freed constraints in eliminator : 0\n",
      "Eliminator terminated.\n",
      "Eliminator - tries                  : 1                 time                   : 0.00            \n",
      "Lin. dep.  - tries                  : 1                 time                   : 0.00            \n",
      "Lin. dep.  - number                 : 0               \n",
      "Presolve terminated. Time: 0.00    \n",
      "Problem\n",
      "  Name                   :                 \n",
      "  Objective sense        : max             \n",
      "  Type                   : CONIC (conic optimization problem)\n",
      "  Constraints            : 25              \n",
      "  Cones                  : 0               \n",
      "  Scalar variables       : 1               \n",
      "  Matrix variables       : 10              \n",
      "  Integer variables      : 0               \n",
      "\n",
      "Optimizer  - threads                : 4               \n",
      "Optimizer  - solved problem         : the primal      \n",
      "Optimizer  - Constraints            : 25\n",
      "Optimizer  - Cones                  : 1\n",
      "Optimizer  - Scalar variables       : 2                 conic                  : 2               \n",
      "Optimizer  - Semi-definite variables: 10                scalarized             : 90              \n",
      "Factor     - setup time             : 0.00              dense det. time        : 0.00            \n",
      "Factor     - ML order time          : 0.00              GP order time          : 0.00            \n",
      "Factor     - nonzeros before factor : 225               after factor           : 225             \n",
      "Factor     - dense dim.             : 0                 flops                  : 8.81e+03        \n",
      "ITE PFEAS    DFEAS    GFEAS    PRSTATUS   POBJ              DOBJ              MU       TIME  \n",
      "0   6.0e+00  1.0e+00  1.0e+00  0.00e+00   0.000000000e+00   0.000000000e+00   1.0e+00  0.00  \n",
      "1   1.3e+00  2.2e-01  1.7e-01  2.31e-01   -9.994338811e-02  -3.218612660e-01  2.2e-01  0.00  \n",
      "2   2.1e-01  3.4e-02  2.1e-02  1.15e-01   -3.792799213e-01  -6.488751127e-01  3.4e-02  0.00  \n",
      "3   2.6e-02  4.4e-03  8.4e-04  8.22e-01   -1.902834038e+00  -1.927988979e+00  4.4e-03  0.00  \n",
      "4   4.0e-04  6.7e-05  1.6e-06  9.72e-01   -1.998891996e+00  -1.999277110e+00  6.7e-05  0.00  \n",
      "5   5.6e-06  9.4e-07  2.6e-09  1.00e+00   -1.999987471e+00  -1.999992683e+00  9.4e-07  0.00  \n",
      "6   3.3e-08  5.5e-09  1.1e-12  1.00e+00   -1.999999947e+00  -1.999999970e+00  5.5e-09  0.00  \n",
      "7   5.6e-10  5.4e-10  1.7e-15  1.01e+00   -1.999999999e+00  -2.000000000e+00  8.0e-11  0.00  \n",
      "8   1.1e-11  4.3e-09  5.0e-18  1.00e+00   -2.000000000e+00  -2.000000000e+00  1.7e-12  0.00  \n",
      "Optimizer terminated. Time: 0.00    \n",
      "\n",
      "\n",
      "Interior-point solution summary\n",
      "  Problem status  : PRIMAL_AND_DUAL_FEASIBLE\n",
      "  Solution status : OPTIMAL\n",
      "  Primal.  obj: -2.0000000000e+00   nrm: 5e+00    Viol.  con: 3e-11    var: 0e+00    barvar: 0e+00  \n",
      "  Dual.    obj: -2.0000000000e+00   nrm: 2e+00    Viol.  con: 0e+00    var: 5e-12    barvar: 1e-08  \n"
     ]
    }
   ],
   "source": [
    "Xc, Zc, tc, yc, solstac = Polyopt.solve_mosek(probc);"
   ]
  },
  {
   "cell_type": "code",
   "execution_count": 162,
   "metadata": {},
   "outputs": [
    {
     "data": {
      "text/plain": [
       "35×2 Array{Main.Polyopt.Poly{Float64},2}:\n",
       " 1.0         1.0\n",
       " x3          -1.0\n",
       " x3^2        1.0\n",
       " x3^3        -1.0\n",
       " x3^4        1.0\n",
       " x2          1.0\n",
       " x2*x3       -1.0\n",
       " x2*x3^2     1.0\n",
       " x2*x3^3     -1.0\n",
       " x2^2        1.0\n",
       " x2^2*x3     -1.0\n",
       " x2^2*x3^2   1.0\n",
       " x2^3        1.0\n",
       " ⋮           \n",
       " x1*x2^2*x3  0.0\n",
       " x1*x2^3     -1.0\n",
       " x1^2        1.0\n",
       " x1^2*x3     0.0\n",
       " x1^2*x3^2   0.0\n",
       " x1^2*x2     1.0\n",
       " x1^2*x2*x3  0.0\n",
       " x1^2*x2^2   1.0\n",
       " x1^3        -1.0\n",
       " x1^3*x3     0.0\n",
       " x1^3*x2     -1.0\n",
       " x1^4        1.0"
      ]
     },
     "execution_count": 162,
     "metadata": {},
     "output_type": "execute_result"
    }
   ],
   "source": [
    "Matrix([ probc.basis yc ])"
   ]
  },
  {
   "cell_type": "markdown",
   "metadata": {},
   "source": [
    "In this case we also recover the optimal value at the second order relaxation. In general this is not always the case, except when all polynomials are quadratic, but under mild assumptions the hierarchy of chordal moment relaxations converges to the optimal solution (just as the regular moment relaxations)."
   ]
  },
  {
   "cell_type": "markdown",
   "metadata": {},
   "source": [
    "## Duality and sums-of-squares certificates"
   ]
  },
  {
   "cell_type": "markdown",
   "metadata": {},
   "source": [
    "The sums-of-squares certificate is also evaluted over the cliques, in this case we have"
   ]
  },
  {
   "cell_type": "code",
   "execution_count": 163,
   "metadata": {},
   "outputs": [],
   "source": [
    "using LinearAlgebra\n",
    "r = dot(uk[1], Xc[1]*uk[1]) + dot(uk[2], Xc[2]*uk[2]) + \n",
    "        g[1]*dot(vk[1], Xc[3]*vk[1]) +\n",
    "        g[2]*dot(vk[1], Xc[4]*vk[1]) +\n",
    "        g[3]*dot(vk[2], Xc[5]*vk[2]) +\n",
    "        g[4]*dot(vk[2], Xc[6]*vk[2]) +\n",
    "        g[5]*dot(vk[1], Xc[7]*vk[1]) +\n",
    "        g[6]*(dot(vk[1], Xc[8]*vk[1]) + dot(vk[2], Xc[9]*vk[2])) +\n",
    "        g[7]*dot(vk[2], Xc[10]*vk[2]);"
   ]
  },
  {
   "cell_type": "code",
   "execution_count": 164,
   "metadata": {},
   "outputs": [
    {
     "data": {
      "text/plain": [
       "0.0"
      ]
     },
     "execution_count": 164,
     "metadata": {},
     "output_type": "execute_result"
    }
   ],
   "source": [
    "truncate( f - tc - r, 1e-6 )"
   ]
  },
  {
   "cell_type": "markdown",
   "metadata": {},
   "source": [
    "## Chordal embedding"
   ]
  },
  {
   "cell_type": "markdown",
   "metadata": {},
   "source": [
    "When the correlative sparsity pattern is non-chordal it is difficult to find the cliques (it is NP-hard in general). In that case we embed the correlative sparsity pattern in a larger chordal graph for which we can easily detect the cliques. The chordal embedding procedure essentially corresponds to a symbolic Cholesky factorization of the correlative sparsity pattern, and the amount of generated fill-in depends on the quality of a symmetric matrix reordering (performed by <code>CHOLMOD</code>). "
   ]
  },
  {
   "cell_type": "markdown",
   "metadata": {},
   "source": [
    "To demonstrate this procedure we consider a problem from http://gamsworld.org/global/globallib/ex5_4_2.htm, where we have rescaled the problem such that $x_i\\leq 1$ to make the relaxations easier to solve. "
   ]
  },
  {
   "cell_type": "code",
   "execution_count": 165,
   "metadata": {},
   "outputs": [],
   "source": [
    "x1,x2,x3,x4,x5,x6,x7,x8 = Polyopt.variables([\"x1\",\"x2\",\"x3\",\"x4\",\"x5\",\"x6\",\"x7\",\"x8\"]);"
   ]
  },
  {
   "cell_type": "code",
   "execution_count": 166,
   "metadata": {},
   "outputs": [],
   "source": [
    "f = x1 + x2 + x3;"
   ]
  },
  {
   "cell_type": "code",
   "execution_count": 167,
   "metadata": {},
   "outputs": [],
   "source": [
    "g = [ 400/1000 - (x4 + x6),\n",
    "      300/1000 - (-x4 + x5 + x7),\n",
    "      100/1000 - (-x5 + x8),\n",
    "      .083333 - (0.01*x1 - 10*x1*x6 + 0.83333*x4),      \n",
    "      -(x2*x4 - x2*x7 - 0.125*x4 + 0.125*x5),\n",
    "      -0.125 - (x3*x5 - x3*x8 - 0.25*x5),\n",
    "      x1-100/10000, 1-x1, \n",
    "      x2-1000/10000, 1-x2, \n",
    "      x3-1000/10000, 1-x3, \n",
    "      x4-10/1000, 1-x4, \n",
    "      x5-10/1000, 1-x5, \n",
    "      x6-10/1000, 1-x6, \n",
    "      x7-10/1000, 1-x7, \n",
    "      x8-10/1000, 1-x8 ];"
   ]
  },
  {
   "cell_type": "markdown",
   "metadata": {},
   "source": [
    "For reference, let us first solve the third-order standard moment relaxation."
   ]
  },
  {
   "cell_type": "code",
   "execution_count": 168,
   "metadata": {},
   "outputs": [],
   "source": [
    "prob = Polyopt.momentprob(3, f, g);"
   ]
  },
  {
   "cell_type": "code",
   "execution_count": 169,
   "metadata": {},
   "outputs": [
    {
     "name": "stdout",
     "output_type": "stream",
     "text": [
      "Open file 'polyopt.task'\n",
      "Problem\n",
      "  Name                   :                 \n",
      "  Objective sense        : max             \n",
      "  Type                   : CONIC (conic optimization problem)\n",
      "  Constraints            : 3003            \n",
      "  Cones                  : 0               \n",
      "  Scalar variables       : 1               \n",
      "  Matrix variables       : 23              \n",
      "  Integer variables      : 0               \n",
      "\n",
      "Optimizer started.\n",
      "Presolve started.\n",
      "Linear dependency checker started.\n",
      "Linear dependency checker terminated.\n",
      "Eliminator started.\n",
      "Freed constraints in eliminator : 0\n",
      "Eliminator terminated.\n",
      "Eliminator - tries                  : 1                 time                   : 0.00            \n",
      "Lin. dep.  - tries                  : 1                 time                   : 0.00            \n",
      "Lin. dep.  - number                 : 0               \n",
      "Presolve terminated. Time: 0.00    \n",
      "Problem\n",
      "  Name                   :                 \n",
      "  Objective sense        : max             \n",
      "  Type                   : CONIC (conic optimization problem)\n",
      "  Constraints            : 3003            \n",
      "  Cones                  : 0               \n",
      "  Scalar variables       : 1               \n",
      "  Matrix variables       : 23              \n",
      "  Integer variables      : 0               \n",
      "\n",
      "Optimizer  - threads                : 4               \n",
      "Optimizer  - solved problem         : the primal      \n",
      "Optimizer  - Constraints            : 3003\n",
      "Optimizer  - Cones                  : 1\n",
      "Optimizer  - Scalar variables       : 2                 conic                  : 2               \n",
      "Optimizer  - Semi-definite variables: 23                scalarized             : 36465           \n",
      "Factor     - setup time             : 0.78              dense det. time        : 0.00            \n",
      "Factor     - ML order time          : 0.34              GP order time          : 0.00            \n",
      "Factor     - nonzeros before factor : 4.51e+06          after factor           : 4.51e+06        \n",
      "Factor     - dense dim.             : 0                 flops                  : 9.62e+09        \n",
      "ITE PFEAS    DFEAS    GFEAS    PRSTATUS   POBJ              DOBJ              MU       TIME  \n",
      "0   9.5e+00  1.0e+00  1.0e+00  0.00e+00   0.000000000e+00   0.000000000e+00   1.0e+00  0.81  \n",
      "1   5.9e+00  6.3e-01  3.2e-01  1.26e+00   -5.317978953e-02  1.531240147e-01   6.3e-01  2.53  \n",
      "2   3.1e+00  3.2e-01  9.0e-02  2.23e+00   3.242736877e-01   3.937298576e-01   3.2e-01  3.86  \n",
      "3   7.8e-01  8.2e-02  6.4e-03  1.97e+00   3.714819022e-01   3.840126058e-01   8.2e-02  5.22  \n",
      "4   4.0e-01  4.2e-02  3.1e-03  7.44e-01   5.018060987e-01   5.091824536e-01   4.2e-02  6.59  \n",
      "5   7.8e-02  8.2e-03  3.5e-04  7.51e-01   6.923207970e-01   6.937191037e-01   8.2e-03  7.88  \n",
      "6   1.2e-02  1.2e-03  1.7e-05  6.80e-01   7.531309526e-01   7.534978957e-01   1.2e-03  9.30  \n",
      "7   6.5e-03  6.8e-04  7.7e-06  8.71e-01   7.528432105e-01   7.530442937e-01   6.8e-04  10.50 \n",
      "8   7.8e-04  8.2e-05  3.8e-07  9.66e-01   7.512592003e-01   7.512784806e-01   8.2e-05  11.77 \n",
      "9   6.6e-04  7.0e-05  3.1e-07  8.14e-01   7.513600282e-01   7.513766701e-01   7.0e-05  12.98 \n",
      "10  6.5e-05  6.8e-06  9.6e-09  9.92e-01   7.512305510e-01   7.512321823e-01   6.8e-06  14.44 \n",
      "11  1.1e-08  1.1e-09  1.9e-14  9.99e-01   7.512226024e-01   7.512226027e-01   1.1e-09  15.59 \n",
      "12  2.7e-11  2.4e-09  8.3e-24  1.00e+00   7.512226037e-01   7.512226037e-01   7.8e-16  16.75 \n",
      "Optimizer terminated. Time: 16.75   \n",
      "\n",
      "\n",
      "Interior-point solution summary\n",
      "  Problem status  : PRIMAL_AND_DUAL_FEASIBLE\n",
      "  Solution status : OPTIMAL\n",
      "  Primal.  obj: 7.5122260367e-01    nrm: 1e+01    Viol.  con: 1e-11    var: 0e+00    barvar: 9e-16  \n",
      "  Dual.    obj: 7.5122260367e-01    nrm: 3e+00    Viol.  con: 0e+00    var: 8e-16    barvar: 1e-09  \n"
     ]
    }
   ],
   "source": [
    "X, Z, t, y, solsta = Polyopt.solve_mosek(prob);"
   ]
  },
  {
   "cell_type": "markdown",
   "metadata": {},
   "source": [
    "and the extracted solution "
   ]
  },
  {
   "cell_type": "code",
   "execution_count": 170,
   "metadata": {},
   "outputs": [
    {
     "data": {
      "text/plain": [
       "3003×2 Array{Main.Polyopt.Poly{Float64},2}:\n",
       " 1.0         1.0\n",
       " x8          0.380589\n",
       " x8^2        0.144848\n",
       " x8^3        0.0551275\n",
       " x8^4        0.0209809\n",
       " x8^5        0.0079851\n",
       " x8^6        2.23737\n",
       " x7          0.284471\n",
       " x7*x8       0.108267\n",
       " x7*x8^2     0.041205\n",
       " x7*x8^3     0.0156822\n",
       " x7*x8^4     0.00596846\n",
       " x7*x8^5     -0.000457155\n",
       " ⋮           \n",
       " x1^4*x2*x4  -0.213214\n",
       " x1^4*x2*x3  0.00180014\n",
       " x1^4*x2^2   0.766096\n",
       " x1^5        1.1422e-5\n",
       " x1^5*x8     0.00618647\n",
       " x1^5*x7     0.00911014\n",
       " x1^5*x6     0.132243\n",
       " x1^5*x5     0.0175621\n",
       " x1^5*x4     0.0169488\n",
       " x1^5*x3     0.011129\n",
       " x1^5*x2     0.0139941\n",
       " x1^6        2.12709"
      ]
     },
     "execution_count": 170,
     "metadata": {},
     "output_type": "execute_result"
    }
   ],
   "source": [
    "[ prob.basis y ]"
   ]
  },
  {
   "cell_type": "markdown",
   "metadata": {},
   "source": [
    "is feasible"
   ]
  },
  {
   "cell_type": "code",
   "execution_count": 171,
   "metadata": {},
   "outputs": [
    {
     "data": {
      "text/plain": [
       "8-element Array{Float64,1}:\n",
       " 0.10269480182448586\n",
       " 0.10000000000001597\n",
       " 0.5485278018454621\n",
       " 0.2650599826712479\n",
       " 0.2805888792618106\n",
       " 0.13494001732873756\n",
       " 0.2844711034094327\n",
       " 0.3805888792618064"
      ]
     },
     "execution_count": 171,
     "metadata": {},
     "output_type": "execute_result"
    }
   ],
   "source": [
    "xo = Polyopt.vectorize([x1,x2,x3,x4,x5,x6,x7,x8],6)*y"
   ]
  },
  {
   "cell_type": "code",
   "execution_count": 172,
   "metadata": {},
   "outputs": [
    {
     "data": {
      "text/plain": [
       "22-element Array{Float64,1}:\n",
       "  1.454392162258955e-14\n",
       "  4.6074255521944e-15\n",
       "  4.163336342344337e-15\n",
       " -1.970645868709653e-15\n",
       " -1.5439038936193583e-15\n",
       " -3.4139358007223564e-15\n",
       "  0.09269480182448586\n",
       "  0.8973051981755141\n",
       "  1.5959455978986625e-14\n",
       "  0.899999999999984\n",
       "  0.44852780184546215\n",
       "  0.4514721981545379\n",
       "  0.2550599826712479\n",
       "  0.7349400173287521\n",
       "  0.2705888792618106\n",
       "  0.7194111207381895\n",
       "  0.12494001732873757\n",
       "  0.8650599826712624\n",
       "  0.2744711034094327\n",
       "  0.7155288965905673\n",
       "  0.3705888792618064\n",
       "  0.6194111207381936"
      ]
     },
     "execution_count": 172,
     "metadata": {},
     "output_type": "execute_result"
    }
   ],
   "source": [
    "[ Polyopt.evalpoly(gi, xo) for gi=g ]"
   ]
  },
  {
   "cell_type": "markdown",
   "metadata": {},
   "source": [
    "Now, let us form the chordal moment relaxation using a chordal embedding,"
   ]
  },
  {
   "cell_type": "code",
   "execution_count": 173,
   "metadata": {},
   "outputs": [
    {
     "data": {
      "text/plain": [
       "cholesky (generic function with 9 methods)"
      ]
     },
     "execution_count": 173,
     "metadata": {},
     "output_type": "execute_result"
    }
   ],
   "source": [
    "cholesky"
   ]
  },
  {
   "cell_type": "code",
   "execution_count": 174,
   "metadata": {},
   "outputs": [
    {
     "ename": "ErrorException",
     "evalue": "type Array has no field ordering",
     "output_type": "error",
     "traceback": [
      "type Array has no field ordering",
      "",
      "Stacktrace:",
      " [1] getproperty(::Array{Int64,1}, ::Symbol) at .\\Base.jl:33",
      " [2] chordal_embedding(::SparseArrays.SparseMatrixCSC{Int64,Int64}, ::Array{Int64,1}) at C:\\Users\\SSRL_X1Yoga\\OneDrive\\Documents\\gits\\Polyopt.jl\\src\\cliques.jl:59",
      " [3] chordal_embedding(::SparseArrays.SparseMatrixCSC{Int64,Int64}) at C:\\Users\\SSRL_X1Yoga\\OneDrive\\Documents\\gits\\Polyopt.jl\\src\\cliques.jl:68",
      " [4] momentprob_chordalembedding(::Int64, ::Main.Polyopt.Poly{Int64}, ::Array{Main.Polyopt.Poly{Float64},1}, ::Array{Main.Polyopt.Poly{Int64},1}) at C:\\Users\\SSRL_X1Yoga\\OneDrive\\Documents\\gits\\Polyopt.jl\\src\\Polyopt.jl:235",
      " [5] momentprob_chordalembedding(::Int64, ::Main.Polyopt.Poly{Int64}, ::Array{Main.Polyopt.Poly{Float64},1}) at C:\\Users\\SSRL_X1Yoga\\OneDrive\\Documents\\gits\\Polyopt.jl\\src\\Polyopt.jl:239",
      " [6] top-level scope at In[174]:1"
     ]
    }
   ],
   "source": [
    "probc = Polyopt.momentprob_chordalembedding(3, f, g);\n"
   ]
  },
  {
   "cell_type": "code",
   "execution_count": 175,
   "metadata": {},
   "outputs": [
    {
     "name": "stdout",
     "output_type": "stream",
     "text": [
      "Open file 'polyopt.task'\n",
      "Problem\n",
      "  Name                   :                 \n",
      "  Objective sense        : max             \n",
      "  Type                   : CONIC (conic optimization problem)\n",
      "  Constraints            : 25              \n",
      "  Cones                  : 0               \n",
      "  Scalar variables       : 1               \n",
      "  Matrix variables       : 10              \n",
      "  Integer variables      : 0               \n",
      "\n",
      "Optimizer started.\n",
      "Presolve started.\n",
      "Linear dependency checker started.\n",
      "Linear dependency checker terminated.\n",
      "Eliminator started.\n",
      "Freed constraints in eliminator : 0\n",
      "Eliminator terminated.\n",
      "Eliminator - tries                  : 1                 time                   : 0.00            \n",
      "Lin. dep.  - tries                  : 1                 time                   : 0.00            \n",
      "Lin. dep.  - number                 : 0               \n",
      "Presolve terminated. Time: 0.00    \n",
      "Problem\n",
      "  Name                   :                 \n",
      "  Objective sense        : max             \n",
      "  Type                   : CONIC (conic optimization problem)\n",
      "  Constraints            : 25              \n",
      "  Cones                  : 0               \n",
      "  Scalar variables       : 1               \n",
      "  Matrix variables       : 10              \n",
      "  Integer variables      : 0               \n",
      "\n",
      "Optimizer  - threads                : 4               \n",
      "Optimizer  - solved problem         : the primal      \n",
      "Optimizer  - Constraints            : 25\n",
      "Optimizer  - Cones                  : 1\n",
      "Optimizer  - Scalar variables       : 2                 conic                  : 2               \n",
      "Optimizer  - Semi-definite variables: 10                scalarized             : 90              \n",
      "Factor     - setup time             : 0.00              dense det. time        : 0.00            \n",
      "Factor     - ML order time          : 0.00              GP order time          : 0.00            \n",
      "Factor     - nonzeros before factor : 225               after factor           : 225             \n",
      "Factor     - dense dim.             : 0                 flops                  : 8.81e+03        \n",
      "ITE PFEAS    DFEAS    GFEAS    PRSTATUS   POBJ              DOBJ              MU       TIME  \n",
      "0   6.0e+00  1.0e+00  1.0e+00  0.00e+00   0.000000000e+00   0.000000000e+00   1.0e+00  0.00  \n",
      "1   1.3e+00  2.2e-01  1.7e-01  2.31e-01   -9.994338811e-02  -3.218612660e-01  2.2e-01  0.00  \n",
      "2   2.1e-01  3.4e-02  2.1e-02  1.15e-01   -3.792799213e-01  -6.488751127e-01  3.4e-02  0.00  \n",
      "3   2.6e-02  4.4e-03  8.4e-04  8.22e-01   -1.902834038e+00  -1.927988979e+00  4.4e-03  0.00  \n",
      "4   4.0e-04  6.7e-05  1.6e-06  9.72e-01   -1.998891996e+00  -1.999277110e+00  6.7e-05  0.00  \n",
      "5   5.6e-06  9.4e-07  2.6e-09  1.00e+00   -1.999987471e+00  -1.999992683e+00  9.4e-07  0.00  \n",
      "6   3.3e-08  5.5e-09  1.1e-12  1.00e+00   -1.999999947e+00  -1.999999970e+00  5.5e-09  0.00  \n",
      "7   5.6e-10  5.4e-10  1.7e-15  1.01e+00   -1.999999999e+00  -2.000000000e+00  8.0e-11  0.01  \n",
      "8   1.1e-11  4.3e-09  5.0e-18  1.00e+00   -2.000000000e+00  -2.000000000e+00  1.7e-12  0.01  \n",
      "Optimizer terminated. Time: 0.01    \n",
      "\n",
      "\n",
      "Interior-point solution summary\n",
      "  Problem status  : PRIMAL_AND_DUAL_FEASIBLE\n",
      "  Solution status : OPTIMAL\n",
      "  Primal.  obj: -2.0000000000e+00   nrm: 5e+00    Viol.  con: 3e-11    var: 0e+00    barvar: 0e+00  \n",
      "  Dual.    obj: -2.0000000000e+00   nrm: 2e+00    Viol.  con: 0e+00    var: 5e-12    barvar: 1e-08  \n"
     ]
    }
   ],
   "source": [
    "Xc, Zc, tc, yc, solstac = Polyopt.solve_mosek(probc);"
   ]
  },
  {
   "cell_type": "code",
   "execution_count": 176,
   "metadata": {},
   "outputs": [
    {
     "ename": "DimensionMismatch",
     "evalue": "DimensionMismatch(\"\")",
     "output_type": "error",
     "traceback": [
      "DimensionMismatch(\"\")",
      "",
      "Stacktrace:",
      " [1] hcat(::SparseArrays.SparseMatrixCSC{Main.Polyopt.Poly{Int64},Int64}, ::SparseArrays.SparseMatrixCSC{Float64,Int64}, ::SparseArrays.SparseMatrixCSC{Float64,Int64}) at D:\\buildbot\\worker\\package_win64\\build\\usr\\share\\julia\\stdlib\\v1.5\\SparseArrays\\src\\sparsematrix.jl:3234",
      " [2] hcat(::Array{Main.Polyopt.Poly{Int64},1}, ::Array{Float64,1}, ::SparseArrays.SparseVector{Float64,Int64}) at D:\\buildbot\\worker\\package_win64\\build\\usr\\share\\julia\\stdlib\\v1.5\\SparseArrays\\src\\sparsevector.jl:1045",
      " [3] top-level scope at In[176]:1"
     ]
    }
   ],
   "source": [
    "Matrix([ prob.basis y yc ])"
   ]
  },
  {
   "cell_type": "code",
   "execution_count": null,
   "metadata": {},
   "outputs": [],
   "source": []
  },
  {
   "cell_type": "code",
   "execution_count": null,
   "metadata": {},
   "outputs": [],
   "source": []
  },
  {
   "cell_type": "code",
   "execution_count": null,
   "metadata": {},
   "outputs": [],
   "source": []
  },
  {
   "cell_type": "code",
   "execution_count": null,
   "metadata": {},
   "outputs": [],
   "source": []
  },
  {
   "cell_type": "code",
   "execution_count": null,
   "metadata": {},
   "outputs": [],
   "source": []
  }
 ],
 "metadata": {
  "anaconda-cloud": {},
  "kernelspec": {
   "display_name": "Julia 1.5.0",
   "language": "julia",
   "name": "julia-1.5"
  },
  "language_info": {
   "file_extension": ".jl",
   "mimetype": "application/julia",
   "name": "julia",
   "version": "1.5.0"
  }
 },
 "nbformat": 4,
 "nbformat_minor": 1
}
