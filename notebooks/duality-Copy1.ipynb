{
 "cells": [
  {
   "cell_type": "markdown",
   "metadata": {},
   "source": [
    "# Duality properties and sums-of-squares"
   ]
  },
  {
   "cell_type": "markdown",
   "metadata": {},
   "source": [
    "## A simple problem with equality and inequality constraints"
   ]
  },
  {
   "cell_type": "markdown",
   "metadata": {},
   "source": [
    "We consider a problem with both equality and inequality constraints"
   ]
  },
  {
   "cell_type": "markdown",
   "metadata": {},
   "source": [
    "\\begin{array}{ll}\n",
    "\\text{minimize}   & x + z\\\\\n",
    "\\text{subject to} & x - z \\geq 0\\\\\n",
    "                  & x^2 + z^2 = 1.\n",
    "\\end{array}"
   ]
  },
  {
   "cell_type": "code",
   "execution_count": 163,
   "metadata": {},
   "outputs": [
    {
     "name": "stderr",
     "output_type": "stream",
     "text": [
      "WARNING: replacing module Polyopt.\n",
      "WARNING: could not import Base.sub into Polyopt\n"
     ]
    },
    {
     "data": {
      "text/plain": [
       "Main.Polyopt"
      ]
     },
     "execution_count": 163,
     "metadata": {},
     "output_type": "execute_result"
    }
   ],
   "source": [
    "include(\"..\\\\src\\\\Polyopt.jl\")"
   ]
  },
  {
   "cell_type": "code",
   "execution_count": 164,
   "metadata": {},
   "outputs": [],
   "source": [
    "x, z = Polyopt.variables([\"x\", \"z\"]);\n",
    "f = x + z;\n",
    "g = x - z;\n",
    "h = x^2 + z^2 - 1;\n",
    "prob = Polyopt.momentprob(2, f, [g], [h]);"
   ]
  },
  {
   "cell_type": "code",
   "execution_count": 165,
   "metadata": {
    "scrolled": true
   },
   "outputs": [
    {
     "name": "stdout",
     "output_type": "stream",
     "text": [
      "Open file 'polyopt.task'\n",
      "Problem\n",
      "  Name                   :                 \n",
      "  Objective sense        : max             \n",
      "  Type                   : CONIC (conic optimization problem)\n",
      "  Constraints            : 15              \n",
      "  Cones                  : 0               \n",
      "  Scalar variables       : 7               \n",
      "  Matrix variables       : 2               \n",
      "  Integer variables      : 0               \n",
      "\n",
      "Optimizer started.\n",
      "Presolve started.\n",
      "Linear dependency checker started.\n",
      "Linear dependency checker terminated.\n",
      "Eliminator started.\n",
      "Freed constraints in eliminator : 0\n",
      "Eliminator terminated.\n",
      "Eliminator started.\n",
      "Freed constraints in eliminator : 0\n",
      "Eliminator terminated.\n",
      "Eliminator - tries                  : 2                 time                   : 0.00            \n",
      "Lin. dep.  - tries                  : 1                 time                   : 0.00            \n",
      "Lin. dep.  - number                 : 0               \n",
      "Presolve terminated. Time: 0.00    \n",
      "Problem\n",
      "  Name                   :                 \n",
      "  Objective sense        : max             \n",
      "  Type                   : CONIC (conic optimization problem)\n",
      "  Constraints            : 15              \n",
      "  Cones                  : 0               \n",
      "  Scalar variables       : 7               \n",
      "  Matrix variables       : 2               \n",
      "  Integer variables      : 0               \n",
      "\n",
      "Optimizer  - threads                : 4               \n",
      "Optimizer  - solved problem         : the primal      \n",
      "Optimizer  - Constraints            : 15\n",
      "Optimizer  - Cones                  : 1\n",
      "Optimizer  - Scalar variables       : 8                 conic                  : 8               \n",
      "Optimizer  - Semi-definite variables: 2                 scalarized             : 27              \n",
      "Factor     - setup time             : 0.00              dense det. time        : 0.00            \n",
      "Factor     - ML order time          : 0.00              GP order time          : 0.00            \n",
      "Factor     - nonzeros before factor : 120               after factor           : 120             \n",
      "Factor     - dense dim.             : 0                 flops                  : 3.37e+03        \n",
      "ITE PFEAS    DFEAS    GFEAS    PRSTATUS   POBJ              DOBJ              MU       TIME  \n",
      "0   2.0e+00  1.0e+00  1.0e+00  0.00e+00   0.000000000e+00   0.000000000e+00   1.0e+00  0.00  \n",
      "1   6.4e-01  3.2e-01  2.5e-01  2.86e-01   -4.653334109e-01  -6.237304963e-01  3.2e-01  0.00  \n",
      "2   1.4e-01  6.8e-02  1.5e-02  1.01e+00   -1.250925203e+00  -1.213892948e+00  6.8e-02  0.00  \n",
      "3   1.7e-02  8.3e-03  5.5e-04  1.13e+00   -1.389157294e+00  -1.384192283e+00  8.3e-03  0.00  \n",
      "4   1.6e-03  8.2e-04  1.7e-05  1.11e+00   -1.412333100e+00  -1.411934407e+00  8.2e-04  0.00  \n",
      "5   3.9e-04  2.0e-04  2.1e-06  1.05e+00   -1.413859444e+00  -1.413774675e+00  2.0e-04  0.00  \n",
      "6   1.1e-04  5.5e-05  3.5e-07  1.01e+00   -1.414055001e+00  -1.414038061e+00  5.5e-05  0.00  \n",
      "7   3.1e-05  1.5e-05  5.5e-08  1.01e+00   -1.414185489e+00  -1.414182344e+00  1.5e-05  0.00  \n",
      "8   7.8e-06  3.9e-06  7.2e-09  1.00e+00   -1.414201695e+00  -1.414201132e+00  3.9e-06  0.00  \n",
      "9   1.8e-06  9.2e-07  8.5e-10  1.00e+00   -1.414211646e+00  -1.414211554e+00  9.2e-07  0.00  \n",
      "10  4.4e-07  2.2e-07  1.0e-10  1.00e+00   -1.414212912e+00  -1.414212896e+00  2.2e-07  0.00  \n",
      "11  1.1e-07  5.5e-08  1.3e-11  1.00e+00   -1.414213443e+00  -1.414213440e+00  5.5e-08  0.00  \n",
      "12  2.9e-08  1.4e-08  1.7e-12  1.00e+00   -1.414213518e+00  -1.414213517e+00  1.4e-08  0.00  \n",
      "13  7.3e-09  3.6e-09  2.2e-13  1.00e+00   -1.414213555e+00  -1.414213555e+00  3.6e-09  0.00  \n",
      "Optimizer terminated. Time: 0.02    \n",
      "\n",
      "\n",
      "Interior-point solution summary\n",
      "  Problem status  : PRIMAL_AND_DUAL_FEASIBLE\n",
      "  Solution status : OPTIMAL\n",
      "  Primal.  obj: -1.4142135547e+00   nrm: 1e+00    Viol.  con: 7e-09    var: 0e+00    barvar: 0e+00  \n",
      "  Dual.    obj: -1.4142135546e+00   nrm: 1e+00    Viol.  con: 0e+00    var: 2e-09    barvar: 4e-09  \n"
     ]
    }
   ],
   "source": [
    "X, Z, t, y, solsta = Polyopt.solve_mosek(prob);"
   ]
  },
  {
   "cell_type": "markdown",
   "metadata": {},
   "source": [
    "We inspect the solution,"
   ]
  },
  {
   "cell_type": "code",
   "execution_count": 166,
   "metadata": {},
   "outputs": [
    {
     "data": {
      "text/plain": [
       "15×2 Array{Main.Polyopt.Poly{Float64},2}:\n",
       " 1.0      1.0\n",
       " z        -0.707154\n",
       " z^2      0.500067\n",
       " z^3      -0.353624\n",
       " z^4      0.250067\n",
       " x        -0.70706\n",
       " x*z      0.5\n",
       " x*z^2    -0.353577\n",
       " x*z^3    0.250033\n",
       " x^2      0.499933\n",
       " x^2*z    -0.35353\n",
       " x^2*z^2  0.25\n",
       " x^3      -0.353483\n",
       " x^3*z    0.249967\n",
       " x^4      0.249933"
      ]
     },
     "execution_count": 166,
     "metadata": {},
     "output_type": "execute_result"
    }
   ],
   "source": [
    "[prob.basis y]"
   ]
  },
  {
   "cell_type": "raw",
   "metadata": {},
   "source": [
    "and verify optimality"
   ]
  },
  {
   "cell_type": "code",
   "execution_count": 167,
   "metadata": {},
   "outputs": [
    {
     "data": {
      "text/plain": [
       "-4.3935521887306095e-11"
      ]
     },
     "execution_count": 167,
     "metadata": {},
     "output_type": "execute_result"
    }
   ],
   "source": [
    "t - Polyopt.evalpoly(f, y[[6,2]])"
   ]
  },
  {
   "cell_type": "code",
   "execution_count": 168,
   "metadata": {},
   "outputs": [
    {
     "data": {
      "text/plain": [
       "true"
      ]
     },
     "execution_count": 168,
     "metadata": {},
     "output_type": "execute_result"
    }
   ],
   "source": [
    "Polyopt.evalpoly(g, y[[6,2]]) >= 0"
   ]
  },
  {
   "cell_type": "code",
   "execution_count": 169,
   "metadata": {},
   "outputs": [
    {
     "data": {
      "text/plain": [
       "true"
      ]
     },
     "execution_count": 169,
     "metadata": {},
     "output_type": "execute_result"
    }
   ],
   "source": [
    "abs(Polyopt.evalpoly(h, y[[6,2]])) < 1e-5"
   ]
  },
  {
   "cell_type": "markdown",
   "metadata": {},
   "source": [
    "## Duality interpretation"
   ]
  },
  {
   "cell_type": "markdown",
   "metadata": {},
   "source": [
    "The returned solution consists objective value of the relaxation,"
   ]
  },
  {
   "cell_type": "code",
   "execution_count": 170,
   "metadata": {},
   "outputs": [
    {
     "data": {
      "text/plain": [
       "-1.4142135546838173"
      ]
     },
     "execution_count": 170,
     "metadata": {},
     "output_type": "execute_result"
    }
   ],
   "source": [
    "t"
   ]
  },
  {
   "cell_type": "markdown",
   "metadata": {},
   "source": [
    "of two semidefinite matrices $X_1$ and $X_2$, corresponding to $f(x,z)$ and $g(x,z)$,"
   ]
  },
  {
   "cell_type": "code",
   "execution_count": 171,
   "metadata": {},
   "outputs": [
    {
     "data": {
      "text/plain": [
       "2-element Array{Array{Float64,2},1}:\n",
       " [0.7628216278898029 0.5495506795361622 … -0.13935554443399664 -0.28181668526824255; 0.5495506795361622 0.9498293954112726 … -0.0065747031915087545 -0.08103092108270234; … ; -0.13935554443399664 -0.0065747031915087545 … 0.8400241666007314 -0.0584076485131413; -0.28181668526824255 -0.08103092108270234 … -0.0584076485131413 0.5200868050328684]\n",
       " [0.3080595596991178 0.31304622346092614 0.1225507357258227; 0.31304622346092614 0.47521815406666035 -0.03247715865424768; 0.1225507357258227 -0.03247715865424768 0.2058487571368526]"
      ]
     },
     "execution_count": 171,
     "metadata": {},
     "output_type": "execute_result"
    }
   ],
   "source": [
    "X"
   ]
  },
  {
   "cell_type": "markdown",
   "metadata": {},
   "source": [
    "a symmetric indefinite matrix $Z_1$ corresponding to $h(x,z$),"
   ]
  },
  {
   "cell_type": "code",
   "execution_count": 172,
   "metadata": {},
   "outputs": [
    {
     "data": {
      "text/plain": [
       "1-element Array{Array{Float64,2},1}:\n",
       " [-0.6513919304615766 -0.1044790965819084 -0.20605475350457594; -0.1044790965819084 -0.5864426417472638 0.05840764851345477; -0.20605475350457594 0.05840764851345477 -0.5200868013212985]"
      ]
     },
     "execution_count": 172,
     "metadata": {},
     "output_type": "execute_result"
    }
   ],
   "source": [
    "Z"
   ]
  },
  {
   "cell_type": "markdown",
   "metadata": {},
   "source": [
    "and $y$ from which we extracted the coefficients for the optimal monomial solution,"
   ]
  },
  {
   "cell_type": "code",
   "execution_count": 173,
   "metadata": {},
   "outputs": [
    {
     "data": {
      "text/plain": [
       "15-element Array{Float64,1}:\n",
       "  0.999999998416566\n",
       " -0.7071539245825795\n",
       "  0.5000666716832701\n",
       " -0.3536241096485754\n",
       "  0.2500666775889842\n",
       " -0.7070596300573022\n",
       "  0.49999999174675425\n",
       " -0.3535769551016109\n",
       "  0.2500333302119867\n",
       "  0.4999333277019375\n",
       " -0.3535298146159062\n",
       "  0.24999999497251063\n",
       " -0.3534826743529663\n",
       "  0.24996666139817084\n",
       "  0.24993333347494254"
      ]
     },
     "execution_count": 173,
     "metadata": {},
     "output_type": "execute_result"
    }
   ],
   "source": [
    "y"
   ]
  },
  {
   "cell_type": "markdown",
   "metadata": {},
   "source": [
    "The dual interpretation expresses $f(x,z) - t = v_1^T X_1 v_1 + g(x,z) v_2^T X_2 v_2 + h(x,z) v_2^T Z_1 v_2$, in other words we express $f(x,z)-t$ as"
   ]
  },
  {
   "cell_type": "markdown",
   "metadata": {},
   "source": [
    "$$f(x,z) - t = s_0(x,z) + g(x,z)s_1(x,z) - h(x,z) w(x, z)$$"
   ]
  },
  {
   "cell_type": "markdown",
   "metadata": {},
   "source": [
    "where $s_0(x,z)$ and $s_1(x,z)$ are sums-of-squares, but $w(x,z)$ is not. Let us verify the expression,"
   ]
  },
  {
   "cell_type": "code",
   "execution_count": 174,
   "metadata": {},
   "outputs": [
    {
     "data": {
      "text/plain": [
       "6-element Array{Main.Polyopt.Poly{Int64},1}:\n",
       " 1\n",
       " z\n",
       " z^2\n",
       " x\n",
       " x*z\n",
       " x^2"
      ]
     },
     "execution_count": 174,
     "metadata": {},
     "output_type": "execute_result"
    }
   ],
   "source": [
    "v1 = Polyopt.monomials(2, [x,z])"
   ]
  },
  {
   "cell_type": "code",
   "execution_count": 175,
   "metadata": {},
   "outputs": [
    {
     "data": {
      "text/plain": [
       "3-element Array{Main.Polyopt.Poly{Int64},1}:\n",
       " 1\n",
       " z\n",
       " x"
      ]
     },
     "execution_count": 175,
     "metadata": {},
     "output_type": "execute_result"
    }
   ],
   "source": [
    "v2 = Polyopt.monomials(1, [x,z])"
   ]
  },
  {
   "cell_type": "code",
   "execution_count": 176,
   "metadata": {},
   "outputs": [
    {
     "data": {
      "text/plain": [
       "1.4142135546838173+z+x"
      ]
     },
     "execution_count": 176,
     "metadata": {},
     "output_type": "execute_result"
    }
   ],
   "source": [
    "f-t"
   ]
  },
  {
   "cell_type": "code",
   "execution_count": 177,
   "metadata": {},
   "outputs": [
    {
     "data": {
      "text/plain": [
       "1.4142+z+x"
      ]
     },
     "execution_count": 177,
     "metadata": {},
     "output_type": "execute_result"
    }
   ],
   "source": [
    "using LinearAlgebra\n",
    "round(truncate( dot(v1, X[1]*v1) + g*dot(v2, X[2]*v2) + h*dot(v2, Z[1]*v2), 1e-3 ), sigdigits=5)"
   ]
  },
  {
   "cell_type": "code",
   "execution_count": null,
   "metadata": {},
   "outputs": [],
   "source": []
  },
  {
   "cell_type": "code",
   "execution_count": null,
   "metadata": {},
   "outputs": [],
   "source": []
  },
  {
   "cell_type": "code",
   "execution_count": null,
   "metadata": {},
   "outputs": [],
   "source": []
  },
  {
   "cell_type": "code",
   "execution_count": null,
   "metadata": {},
   "outputs": [],
   "source": []
  },
  {
   "cell_type": "code",
   "execution_count": null,
   "metadata": {},
   "outputs": [],
   "source": []
  }
 ],
 "metadata": {
  "anaconda-cloud": {},
  "kernelspec": {
   "display_name": "Julia 1.5.0",
   "language": "julia",
   "name": "julia-1.5"
  },
  "language_info": {
   "file_extension": ".jl",
   "mimetype": "application/julia",
   "name": "julia",
   "version": "1.5.0"
  }
 },
 "nbformat": 4,
 "nbformat_minor": 1
}
