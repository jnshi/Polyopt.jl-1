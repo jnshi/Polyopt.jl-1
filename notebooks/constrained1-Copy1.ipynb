{
 "cells": [
  {
   "cell_type": "markdown",
   "metadata": {},
   "source": [
    "# Constrained minimization example"
   ]
  },
  {
   "cell_type": "markdown",
   "metadata": {},
   "source": [
    "We consider the simple example from the <b>Gloptipoly</b> manual,"
   ]
  },
  {
   "cell_type": "markdown",
   "metadata": {},
   "source": [
    "\\begin{array}{ll}\n",
    "\\text{minimize} & -2 x_1 + x_2 - x_3\\\\\n",
    "\\text{subject to} & 24 - 20 x_1 + 9 x_2 - 13 x_3 + 4 x_1^2 - 4 x_1 x_2 + 4 x_1 x_3 + 2 x_2^2 - 2 x_2 x_3 + 2 x_3^2 \\geq 0\\\\\n",
    "& x_1 + x_2 + x_3 \\leq 4, \\quad 3 x_2 \\leq 6\\\\\n",
    "& 0 \\leq x_1 \\leq 2, \\quad 0 \\leq x_2, \\quad 0\\leq x_3\\leq 3\n",
    "\\end{array}"
   ]
  },
  {
   "cell_type": "code",
   "execution_count": 2,
   "metadata": {},
   "outputs": [
    {
     "name": "stderr",
     "output_type": "stream",
     "text": [
      "WARNING: could not import Base.sub into Polyopt\n"
     ]
    },
    {
     "data": {
      "text/plain": [
       "Main.Polyopt"
      ]
     },
     "execution_count": 2,
     "metadata": {},
     "output_type": "execute_result"
    }
   ],
   "source": [
    "include(\"..\\\\src\\\\Polyopt.jl\")"
   ]
  },
  {
   "cell_type": "markdown",
   "metadata": {},
   "source": [
    "We define the variables"
   ]
  },
  {
   "cell_type": "code",
   "execution_count": 3,
   "metadata": {},
   "outputs": [],
   "source": [
    "x1, x2, x3 = Polyopt.variables([\"x1\",\"x2\",\"x3\"]);"
   ]
  },
  {
   "cell_type": "markdown",
   "metadata": {},
   "source": [
    "and the objective function"
   ]
  },
  {
   "cell_type": "code",
   "execution_count": 4,
   "metadata": {},
   "outputs": [],
   "source": [
    "f = -2*x1 + x2 - x3;"
   ]
  },
  {
   "cell_type": "markdown",
   "metadata": {},
   "source": [
    "and an array with all inequalities in the form $g_i(x) \\geq 0$,"
   ]
  },
  {
   "cell_type": "code",
   "execution_count": 5,
   "metadata": {},
   "outputs": [
    {
     "data": {
      "text/plain": [
       "8-element Array{Main.Polyopt.Poly{Int64},1}:\n",
       " 24-13*x3+2*x3^2+9*x2-2*x2*x3+2*x2^2-20*x1+4*x1*x3-4*x1*x2+4*x1^2\n",
       " 4-x3-x2-x1\n",
       " 6-x3-3*x2\n",
       " x1\n",
       " 2-x1\n",
       " x2\n",
       " x3\n",
       " 3-x3"
      ]
     },
     "execution_count": 5,
     "metadata": {},
     "output_type": "execute_result"
    }
   ],
   "source": [
    "g = [24 - 20*x1 + 9*x2 - 13*x3 + 4*x1^2 - 4*x1*x2 + 4*x1*x3 + 2*x2^2 - 2*x2*x3 + 2*x3^2,\n",
    "     4 - (x1 + x2 + x3),\n",
    "     6 - (3*x2 + x3),\n",
    "     x1, 2-x1, \n",
    "     x2, \n",
    "     x3, 3-x3]"
   ]
  },
  {
   "cell_type": "markdown",
   "metadata": {},
   "source": [
    "## Solving the second-order moment relaxation"
   ]
  },
  {
   "cell_type": "markdown",
   "metadata": {},
   "source": [
    "This problem has multiple optimal minima, so we perturb the problem to locate one of the minimizers,"
   ]
  },
  {
   "cell_type": "code",
   "execution_count": 8,
   "metadata": {},
   "outputs": [],
   "source": [
    "prob = Polyopt.momentprob(2, f + 1e-3*(x1+x2+x3), g);"
   ]
  },
  {
   "cell_type": "markdown",
   "metadata": {},
   "source": [
    "We next solve the problem using MOSEK, turning off log-output:"
   ]
  },
  {
   "cell_type": "code",
   "execution_count": 9,
   "metadata": {},
   "outputs": [],
   "source": [
    "X, Z, t, y, solsta = Polyopt.solve_mosek(prob, showlog=false);"
   ]
  },
  {
   "cell_type": "code",
   "execution_count": 10,
   "metadata": {},
   "outputs": [
    {
     "data": {
      "text/plain": [
       "-5.688381018039616"
      ]
     },
     "execution_count": 10,
     "metadata": {},
     "output_type": "execute_result"
    }
   ],
   "source": [
    "t"
   ]
  },
  {
   "cell_type": "markdown",
   "metadata": {},
   "source": [
    "## Solving the third-order moment relaxation"
   ]
  },
  {
   "cell_type": "code",
   "execution_count": 13,
   "metadata": {},
   "outputs": [],
   "source": [
    "prob = Polyopt.momentprob(3, f + 1e-3*(x1+x2+x3), g);"
   ]
  },
  {
   "cell_type": "code",
   "execution_count": 14,
   "metadata": {},
   "outputs": [],
   "source": [
    "X, Z, t, y, solsta = Polyopt.solve_mosek(prob, showlog=false);"
   ]
  },
  {
   "cell_type": "markdown",
   "metadata": {},
   "source": [
    "The lower bound decreases going from order two to order three,"
   ]
  },
  {
   "cell_type": "code",
   "execution_count": 15,
   "metadata": {},
   "outputs": [
    {
     "data": {
      "text/plain": [
       "-4.064821219921882"
      ]
     },
     "execution_count": 15,
     "metadata": {},
     "output_type": "execute_result"
    }
   ],
   "source": [
    "t"
   ]
  },
  {
   "cell_type": "markdown",
   "metadata": {},
   "source": [
    "## Solving the fourth-order order moment relaxation"
   ]
  },
  {
   "cell_type": "code",
   "execution_count": 17,
   "metadata": {},
   "outputs": [],
   "source": [
    "prob = Polyopt.momentprob(4, f + 1e-3*(x1+x2+x3), g);"
   ]
  },
  {
   "cell_type": "markdown",
   "metadata": {},
   "source": [
    "We solve the fourth-order relaxation, this time showing the log-output from the solver,"
   ]
  },
  {
   "cell_type": "code",
   "execution_count": 18,
   "metadata": {},
   "outputs": [
    {
     "name": "stdout",
     "output_type": "stream",
     "text": [
      "Open file 'polyopt.task'\n",
      "Problem\n",
      "  Name                   :                 \n",
      "  Objective sense        : max             \n",
      "  Type                   : CONIC (conic optimization problem)\n",
      "  Constraints            : 165             \n",
      "  Cones                  : 0               \n",
      "  Scalar variables       : 1               \n",
      "  Matrix variables       : 9               \n",
      "  Integer variables      : 0               \n",
      "\n",
      "Optimizer started.\n",
      "Presolve started.\n",
      "Linear dependency checker started.\n",
      "Linear dependency checker terminated.\n",
      "Eliminator started.\n",
      "Freed constraints in eliminator : 0\n",
      "Eliminator terminated.\n",
      "Eliminator - tries                  : 1                 time                   : 0.00            \n",
      "Lin. dep.  - tries                  : 1                 time                   : 0.00            \n",
      "Lin. dep.  - number                 : 0               \n",
      "Presolve terminated. Time: 0.00    \n",
      "Problem\n",
      "  Name                   :                 \n",
      "  Objective sense        : max             \n",
      "  Type                   : CONIC (conic optimization problem)\n",
      "  Constraints            : 165             \n",
      "  Cones                  : 0               \n",
      "  Scalar variables       : 1               \n",
      "  Matrix variables       : 9               \n",
      "  Integer variables      : 0               \n",
      "\n",
      "Optimizer  - threads                : 4               \n",
      "Optimizer  - solved problem         : the primal      \n",
      "Optimizer  - Constraints            : 165\n",
      "Optimizer  - Cones                  : 1\n",
      "Optimizer  - Scalar variables       : 2                 conic                  : 2               \n",
      "Optimizer  - Semi-definite variables: 9                 scalarized             : 2310            \n",
      "Factor     - setup time             : 0.02              dense det. time        : 0.00            \n",
      "Factor     - ML order time          : 0.00              GP order time          : 0.00            \n",
      "Factor     - nonzeros before factor : 1.37e+04          after factor           : 1.37e+04        \n",
      "Factor     - dense dim.             : 0                 flops                  : 4.49e+06        \n",
      "ITE PFEAS    DFEAS    GFEAS    PRSTATUS   POBJ              DOBJ              MU       TIME  \n",
      "0   1.5e+00  1.0e+00  1.0e+00  0.00e+00   0.000000000e+00   0.000000000e+00   1.0e+00  0.03  \n",
      "1   5.8e-01  3.8e-01  4.9e-01  -2.46e-02  5.354328913e-01   -2.498346026e-01  3.8e-01  0.05  \n",
      "2   2.5e-01  1.7e-01  1.8e-01  -5.67e-02  -3.460869631e-03  -6.484988902e-01  1.7e-01  0.06  \n",
      "3   1.0e-01  6.6e-02  3.3e-02  8.27e-01   -7.818898506e-01  -8.565003054e-01  6.6e-02  0.06  \n",
      "4   4.5e-02  3.0e-02  9.9e-03  1.21e+00   -1.101371626e+00  -1.139945796e+00  3.0e-02  0.08  \n",
      "5   1.1e-02  7.5e-03  1.2e-03  1.15e+00   -1.606437915e+00  -1.616702602e+00  7.5e-03  0.09  \n",
      "6   4.2e-03  2.8e-03  4.2e-04  5.78e-01   -2.334125841e+00  -2.347107798e+00  2.8e-03  0.09  \n",
      "7   1.6e-03  1.1e-03  1.1e-04  7.57e-01   -2.847574109e+00  -2.853939720e+00  1.1e-03  0.11  \n",
      "8   5.7e-04  3.8e-04  2.3e-05  9.13e-01   -3.150346625e+00  -3.152705940e+00  3.8e-04  0.11  \n",
      "9   3.0e-04  2.0e-04  1.2e-05  6.24e-01   -3.278009107e+00  -3.280645322e+00  2.0e-04  0.11  \n",
      "10  1.4e-04  9.1e-05  4.3e-06  6.88e-01   -3.436416768e+00  -3.438216712e+00  9.1e-05  0.11  \n",
      "11  7.2e-05  4.8e-05  2.3e-06  2.58e-01   -3.554698423e+00  -3.556684047e+00  4.8e-05  0.13  \n",
      "12  2.6e-05  1.7e-05  6.7e-07  3.73e-01   -3.771501425e+00  -3.772801130e+00  1.7e-05  0.13  \n",
      "13  3.4e-06  2.2e-06  3.0e-08  7.95e-01   -3.966193328e+00  -3.966347452e+00  2.2e-06  0.13  \n",
      "14  7.9e-07  5.3e-07  3.7e-09  1.03e+00   -3.990433726e+00  -3.990476915e+00  5.3e-07  0.14  \n",
      "15  5.6e-08  3.7e-08  6.7e-11  1.03e+00   -3.997473031e+00  -3.997475838e+00  3.7e-08  0.14  \n",
      "16  3.0e-09  2.3e-09  7.7e-13  1.03e+00   -3.997972874e+00  -3.997973000e+00  2.0e-09  0.14  \n",
      "17  2.9e-10  2.0e-08  4.9e-15  9.77e-01   -3.997999175e+00  -3.997999178e+00  6.3e-11  0.16  \n",
      "18  5.8e-10  1.0e-06  8.2e-18  1.00e+00   -3.997999989e+00  -3.997999989e+00  8.9e-13  0.16  \n",
      "Optimizer terminated. Time: 0.19    \n",
      "\n",
      "\n",
      "Interior-point solution summary\n",
      "  Problem status  : PRIMAL_AND_DUAL_FEASIBLE\n",
      "  Solution status : OPTIMAL\n",
      "  Primal.  obj: -3.9979999887e+00   nrm: 2e+01    Viol.  con: 2e-07    var: 0e+00    barvar: 0e+00  \n",
      "  Dual.    obj: -3.9979999888e+00   nrm: 4e+02    Viol.  con: 0e+00    var: 6e-12    barvar: 5e-12  \n"
     ]
    }
   ],
   "source": [
    "X, Z, t, y, solsta = Polyopt.solve_mosek(prob, showlog=true);"
   ]
  },
  {
   "cell_type": "markdown",
   "metadata": {},
   "source": [
    "Again the lower increases when we increase the relaxation order,"
   ]
  },
  {
   "cell_type": "code",
   "execution_count": 19,
   "metadata": {},
   "outputs": [
    {
     "data": {
      "text/plain": [
       "-3.997999988723318"
      ]
     },
     "execution_count": 19,
     "metadata": {},
     "output_type": "execute_result"
    }
   ],
   "source": [
    "t"
   ]
  },
  {
   "cell_type": "markdown",
   "metadata": {},
   "source": [
    "At this point the hierarchy of relaxations has converged; higher order relaxations give the same bound. Let us inspect the recovered solution"
   ]
  },
  {
   "cell_type": "code",
   "execution_count": 20,
   "metadata": {},
   "outputs": [
    {
     "data": {
      "text/plain": [
       "165×2 Array{Main.Polyopt.Poly{Float64},2}:\n",
       " 1.0           1.0\n",
       " x3            6.21933e-6\n",
       " x3^2          1.86508e-5\n",
       " x3^3          5.59452e-5\n",
       " x3^4          0.000167824\n",
       " x3^5          0.000503452\n",
       " x3^6          0.00151031\n",
       " x3^7          0.00453085\n",
       " x3^8          14.0542\n",
       " x2            7.1917e-9\n",
       " x2*x3         1.31122e-8\n",
       " x2*x3^2       3.52898e-8\n",
       " x2*x3^3       1.01289e-7\n",
       " ⋮             \n",
       " x1^5*x2^2*x3  -0.560582\n",
       " x1^5*x2^3     1.36191\n",
       " x1^6          63.9999\n",
       " x1^6*x3       1.72981e-7\n",
       " x1^6*x3^2     3.18681\n",
       " x1^6*x2       1.26213e-7\n",
       " x1^6*x2*x3    -0.340108\n",
       " x1^6*x2^2     3.15167\n",
       " x1^7          128.0\n",
       " x1^7*x3       -2.07667\n",
       " x1^7*x2       2.01717\n",
       " x1^8          265.979"
      ]
     },
     "execution_count": 20,
     "metadata": {},
     "output_type": "execute_result"
    }
   ],
   "source": [
    "[prob.basis y]"
   ]
  },
  {
   "cell_type": "markdown",
   "metadata": {},
   "source": [
    "Let us verify that the recovered solution"
   ]
  },
  {
   "cell_type": "code",
   "execution_count": 21,
   "metadata": {},
   "outputs": [
    {
     "data": {
      "text/plain": [
       "3-element Array{Float64,1}:\n",
       " 1.9999968898751308\n",
       " 7.191695308455912e-9\n",
       " 6.21932671434791e-6"
      ]
     },
     "execution_count": 21,
     "metadata": {},
     "output_type": "execute_result"
    }
   ],
   "source": [
    "X1, X2, X3 = Polyopt.vectorize([x1,x2,x3], 8)*y"
   ]
  },
  {
   "cell_type": "markdown",
   "metadata": {},
   "source": [
    " is optimal. It achieves the same objective value as the relaxation,"
   ]
  },
  {
   "cell_type": "code",
   "execution_count": 22,
   "metadata": {},
   "outputs": [
    {
     "data": {
      "text/plain": [
       "-3.9999999918852804"
      ]
     },
     "execution_count": 22,
     "metadata": {},
     "output_type": "execute_result"
    }
   ],
   "source": [
    "Polyopt.evalpoly(f, [X1; X2; X3])"
   ]
  },
  {
   "cell_type": "markdown",
   "metadata": {},
   "source": [
    "and it is feasible,"
   ]
  },
  {
   "cell_type": "code",
   "execution_count": 23,
   "metadata": {},
   "outputs": [
    {
     "data": {
      "text/plain": [
       "8-element Array{Float64,1}:\n",
       " -1.8648903722606747e-5\n",
       "  1.9999968836064594\n",
       "  5.9999937590982\n",
       "  1.9999968898751308\n",
       "  3.110124869198927e-6\n",
       "  7.191695308455912e-9\n",
       "  6.21932671434791e-6\n",
       "  2.9999937806732855"
      ]
     },
     "execution_count": 23,
     "metadata": {},
     "output_type": "execute_result"
    }
   ],
   "source": [
    "[ Polyopt.evalpoly(gi, [X1; X2; X3]) for gi=g ]"
   ]
  },
  {
   "cell_type": "code",
   "execution_count": null,
   "metadata": {},
   "outputs": [],
   "source": []
  }
 ],
 "metadata": {
  "kernelspec": {
   "display_name": "Julia 1.5.0",
   "language": "julia",
   "name": "julia-1.5"
  },
  "language_info": {
   "file_extension": ".jl",
   "mimetype": "application/julia",
   "name": "julia",
   "version": "1.5.0"
  }
 },
 "nbformat": 4,
 "nbformat_minor": 1
}
