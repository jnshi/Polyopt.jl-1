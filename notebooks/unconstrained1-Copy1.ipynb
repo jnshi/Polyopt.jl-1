{
 "cells": [
  {
   "cell_type": "markdown",
   "metadata": {},
   "source": [
    "# Example of unconstrained mimimization"
   ]
  },
  {
   "cell_type": "markdown",
   "metadata": {},
   "source": [
    "## Solving a simple problem"
   ]
  },
  {
   "cell_type": "code",
   "execution_count": 3,
   "metadata": {},
   "outputs": [
    {
     "name": "stderr",
     "output_type": "stream",
     "text": [
      "WARNING: could not import Base.sub into Polyopt\n"
     ]
    },
    {
     "data": {
      "text/plain": [
       "Main.Polyopt"
      ]
     },
     "execution_count": 3,
     "metadata": {},
     "output_type": "execute_result"
    }
   ],
   "source": [
    "include(\"..\\\\src\\\\Polyopt.jl\")\n"
   ]
  },
  {
   "cell_type": "markdown",
   "metadata": {},
   "source": [
    "We define two variables $x$ and $z$,"
   ]
  },
  {
   "cell_type": "code",
   "execution_count": 4,
   "metadata": {},
   "outputs": [],
   "source": [
    "x, z = Polyopt.variables([\"x\", \"z\"]);"
   ]
  },
  {
   "cell_type": "markdown",
   "metadata": {},
   "source": [
    "and the function $f(x,z)=4 x^2 + xz - 4z^2 - \\frac{21}{10}x^4 + 4z^4 + \\frac{1}{3}x^6$."
   ]
  },
  {
   "cell_type": "code",
   "execution_count": 5,
   "metadata": {},
   "outputs": [],
   "source": [
    "f = 4*x^2 + x*z - 4*z^2 - 21//10*x^4 + 4*z^4 + 1//3*x^6;"
   ]
  },
  {
   "cell_type": "markdown",
   "metadata": {},
   "source": [
    "To minimize $f(x,z)$ we form a moment relaxation of order 3,"
   ]
  },
  {
   "cell_type": "code",
   "execution_count": 6,
   "metadata": {},
   "outputs": [],
   "source": [
    "prob = Polyopt.momentprob(3, f);"
   ]
  },
  {
   "cell_type": "markdown",
   "metadata": {},
   "source": [
    "and we solve it,"
   ]
  },
  {
   "cell_type": "code",
   "execution_count": 7,
   "metadata": {
    "scrolled": true
   },
   "outputs": [
    {
     "name": "stdout",
     "output_type": "stream",
     "text": [
      "Open file 'polyopt.task'\n",
      "Problem\n",
      "  Name                   :                 \n",
      "  Objective sense        : max             \n",
      "  Type                   : CONIC (conic optimization problem)\n",
      "  Constraints            : 28              \n",
      "  Cones                  : 0               \n",
      "  Scalar variables       : 1               \n",
      "  Matrix variables       : 1               \n",
      "  Integer variables      : 0               \n",
      "\n",
      "Optimizer started.\n",
      "Presolve started.\n",
      "Linear dependency checker started.\n",
      "Linear dependency checker terminated.\n",
      "Eliminator started.\n",
      "Freed constraints in eliminator : 0\n",
      "Eliminator terminated.\n",
      "Eliminator - tries                  : 1                 time                   : 0.00            \n",
      "Lin. dep.  - tries                  : 1                 time                   : 0.00            \n",
      "Lin. dep.  - number                 : 0               \n",
      "Presolve terminated. Time: 0.00    \n",
      "Problem\n",
      "  Name                   :                 \n",
      "  Objective sense        : max             \n",
      "  Type                   : CONIC (conic optimization problem)\n",
      "  Constraints            : 28              \n",
      "  Cones                  : 0               \n",
      "  Scalar variables       : 1               \n",
      "  Matrix variables       : 1               \n",
      "  Integer variables      : 0               \n",
      "\n",
      "Optimizer  - threads                : 4               \n",
      "Optimizer  - solved problem         : the primal      \n",
      "Optimizer  - Constraints            : 28\n",
      "Optimizer  - Cones                  : 1\n",
      "Optimizer  - Scalar variables       : 2                 conic                  : 2               \n",
      "Optimizer  - Semi-definite variables: 1                 scalarized             : 55              \n",
      "Factor     - setup time             : 0.00              dense det. time        : 0.00            \n",
      "Factor     - ML order time          : 0.00              GP order time          : 0.00            \n",
      "Factor     - nonzeros before factor : 406               after factor           : 406             \n",
      "Factor     - dense dim.             : 0                 flops                  : 1.60e+04        \n",
      "ITE PFEAS    DFEAS    GFEAS    PRSTATUS   POBJ              DOBJ              MU       TIME  \n",
      "0   5.0e+00  1.0e+00  1.0e+00  0.00e+00   0.000000000e+00   0.000000000e+00   1.0e+00  0.01  \n",
      "1   1.0e+00  2.0e-01  2.9e-01  -7.45e-01  -1.360012928e+00  -2.798784226e+00  2.0e-01  0.01  \n",
      "2   2.2e-01  4.4e-02  1.3e-02  1.00e+00   -1.208936421e+00  -1.192618799e+00  4.4e-02  0.01  \n",
      "3   4.0e-02  8.0e-03  7.3e-04  1.43e+00   -1.019809350e+00  -1.013907228e+00  8.0e-03  0.01  \n",
      "4   5.2e-03  1.0e-03  3.2e-05  1.42e+00   -1.030241022e+00  -1.029666924e+00  1.0e-03  0.01  \n",
      "5   7.4e-04  1.5e-04  1.9e-06  1.04e+00   -1.031522694e+00  -1.031477861e+00  1.5e-04  0.01  \n",
      "6   9.6e-05  1.9e-05  9.9e-08  9.94e-01   -1.031623552e+00  -1.031622708e+00  1.9e-05  0.01  \n",
      "7   1.2e-05  2.4e-06  4.7e-09  1.01e+00   -1.031628250e+00  -1.031628497e+00  2.4e-06  0.01  \n",
      "8   1.7e-06  3.5e-07  2.6e-10  1.03e+00   -1.031628420e+00  -1.031628477e+00  3.5e-07  0.01  \n",
      "9   2.9e-07  5.7e-08  1.8e-11  1.03e+00   -1.031628448e+00  -1.031628462e+00  5.7e-08  0.01  \n",
      "10  5.7e-08  1.1e-08  1.6e-12  1.03e+00   -1.031628453e+00  -1.031628457e+00  1.1e-08  0.01  \n",
      "11  1.4e-08  2.9e-09  2.1e-13  1.04e+00   -1.031628453e+00  -1.031628454e+00  2.9e-09  0.01  \n",
      "12  6.2e-09  8.9e-10  3.6e-14  1.00e+00   -1.031628455e+00  -1.031628455e+00  8.4e-10  0.01  \n",
      "13  1.8e-09  2.0e-09  4.7e-15  1.00e+00   -1.031628454e+00  -1.031628454e+00  2.2e-10  0.01  \n",
      "Optimizer terminated. Time: 0.05    \n",
      "\n",
      "\n",
      "Interior-point solution summary\n",
      "  Problem status  : PRIMAL_AND_DUAL_FEASIBLE\n",
      "  Solution status : OPTIMAL\n",
      "  Primal.  obj: -1.0316284536e+00   nrm: 4e+00    Viol.  con: 2e-09    var: 0e+00    barvar: 0e+00  \n",
      "  Dual.    obj: -1.0316284537e+00   nrm: 2e+00    Viol.  con: 0e+00    var: 1e-10    barvar: 3e-09  \n"
     ]
    }
   ],
   "source": [
    "X, Z, t, y, solsta = Polyopt.solve_mosek(prob);"
   ]
  },
  {
   "cell_type": "markdown",
   "metadata": {},
   "source": [
    "The optimal lower bound is"
   ]
  },
  {
   "cell_type": "code",
   "execution_count": 8,
   "metadata": {},
   "outputs": [
    {
     "data": {
      "text/plain": [
       "-1.031628453600427"
      ]
     },
     "execution_count": 8,
     "metadata": {},
     "output_type": "execute_result"
    }
   ],
   "source": [
    "t"
   ]
  },
  {
   "cell_type": "markdown",
   "metadata": {},
   "source": [
    "If an optimal polynomial solution is found, then $y$ corresponds to the monomial basis vector"
   ]
  },
  {
   "cell_type": "code",
   "execution_count": 9,
   "metadata": {
    "scrolled": true
   },
   "outputs": [
    {
     "data": {
      "text/plain": [
       "28×2 Array{Main.Polyopt.Poly{Float64},2}:\n",
       " 1.0      1.0\n",
       " z        1.43819e-16\n",
       " z^2      0.507879\n",
       " z^3      7.3042e-17\n",
       " z^4      0.257941\n",
       " z^5      3.70969e-17\n",
       " z^6      2.25121\n",
       " x        -1.81306e-17\n",
       " x*z      -0.0640265\n",
       " x*z^2    -9.20804e-18\n",
       " x*z^3    -0.0325178\n",
       " x*z^4    -4.67647e-18\n",
       " x*z^5    -0.0150525\n",
       " ⋮        \n",
       " x^2*z^3  5.89547e-19\n",
       " x^2*z^4  0.0038416\n",
       " x^3      -1.46339e-19\n",
       " x^3*z    -0.0005168\n",
       " x^3*z^2  -7.43222e-20\n",
       " x^3*z^3  -0.000261141\n",
       " x^4      6.51605e-5\n",
       " x^4*z    9.37036e-21\n",
       " x^4*z^2  3.46802e-5\n",
       " x^5      -1.18526e-21\n",
       " x^5*z    -4.17956e-6\n",
       " x^6      5.59344e-7"
      ]
     },
     "execution_count": 9,
     "metadata": {},
     "output_type": "execute_result"
    }
   ],
   "source": [
    "[prob.basis y]"
   ]
  },
  {
   "cell_type": "markdown",
   "metadata": {},
   "source": [
    "Because of multiple global minima of $f(x,z)$ this is not the case."
   ]
  },
  {
   "cell_type": "markdown",
   "metadata": {},
   "source": [
    "## Perturbing the problem to find global minimum"
   ]
  },
  {
   "cell_type": "markdown",
   "metadata": {},
   "source": [
    " We perturb $f(x,z)$ to find a global minimizer,"
   ]
  },
  {
   "cell_type": "code",
   "execution_count": 10,
   "metadata": {},
   "outputs": [
    {
     "data": {
      "text/plain": [
       "0.0001*z-4.0*z^2+4.0*z^4+0.0001*x+x*z+4.0*x^2-2.1*x^4+0.3333333333333333*x^6"
      ]
     },
     "execution_count": 10,
     "metadata": {},
     "output_type": "execute_result"
    }
   ],
   "source": [
    "fp = f + 1e-4*(x+z)"
   ]
  },
  {
   "cell_type": "code",
   "execution_count": 11,
   "metadata": {},
   "outputs": [],
   "source": [
    "probp = Polyopt.momentprob(3, fp);"
   ]
  },
  {
   "cell_type": "code",
   "execution_count": 12,
   "metadata": {},
   "outputs": [
    {
     "name": "stdout",
     "output_type": "stream",
     "text": [
      "Open file 'polyopt.task'\n",
      "Problem\n",
      "  Name                   :                 \n",
      "  Objective sense        : max             \n",
      "  Type                   : CONIC (conic optimization problem)\n",
      "  Constraints            : 28              \n",
      "  Cones                  : 0               \n",
      "  Scalar variables       : 1               \n",
      "  Matrix variables       : 1               \n",
      "  Integer variables      : 0               \n",
      "\n",
      "Optimizer started.\n",
      "Presolve started.\n",
      "Linear dependency checker started.\n",
      "Linear dependency checker terminated.\n",
      "Eliminator started.\n",
      "Freed constraints in eliminator : 0\n",
      "Eliminator terminated.\n",
      "Eliminator - tries                  : 1                 time                   : 0.00            \n",
      "Lin. dep.  - tries                  : 1                 time                   : 0.00            \n",
      "Lin. dep.  - number                 : 0               \n",
      "Presolve terminated. Time: 0.00    \n",
      "Problem\n",
      "  Name                   :                 \n",
      "  Objective sense        : max             \n",
      "  Type                   : CONIC (conic optimization problem)\n",
      "  Constraints            : 28              \n",
      "  Cones                  : 0               \n",
      "  Scalar variables       : 1               \n",
      "  Matrix variables       : 1               \n",
      "  Integer variables      : 0               \n",
      "\n",
      "Optimizer  - threads                : 4               \n",
      "Optimizer  - solved problem         : the primal      \n",
      "Optimizer  - Constraints            : 28\n",
      "Optimizer  - Cones                  : 1\n",
      "Optimizer  - Scalar variables       : 2                 conic                  : 2               \n",
      "Optimizer  - Semi-definite variables: 1                 scalarized             : 55              \n",
      "Factor     - setup time             : 0.00              dense det. time        : 0.00            \n",
      "Factor     - ML order time          : 0.00              GP order time          : 0.00            \n",
      "Factor     - nonzeros before factor : 406               after factor           : 406             \n",
      "Factor     - dense dim.             : 0                 flops                  : 1.60e+04        \n",
      "ITE PFEAS    DFEAS    GFEAS    PRSTATUS   POBJ              DOBJ              MU       TIME  \n",
      "0   5.0e+00  1.0e+00  1.0e+00  0.00e+00   0.000000000e+00   0.000000000e+00   1.0e+00  0.00  \n",
      "1   1.0e+00  2.0e-01  2.9e-01  -7.45e-01  -1.360012928e+00  -2.798784227e+00  2.0e-01  0.03  \n",
      "2   2.2e-01  4.4e-02  1.3e-02  1.00e+00   -1.208936425e+00  -1.192618803e+00  4.4e-02  0.03  \n",
      "3   4.0e-02  8.0e-03  7.3e-04  1.43e+00   -1.019809440e+00  -1.013907314e+00  8.0e-03  0.03  \n",
      "4   5.2e-03  1.0e-03  3.2e-05  1.42e+00   -1.030241814e+00  -1.029668028e+00  1.0e-03  0.03  \n",
      "5   7.4e-04  1.5e-04  1.9e-06  1.04e+00   -1.031525392e+00  -1.031480584e+00  1.5e-04  0.03  \n",
      "6   9.6e-05  1.9e-05  1.0e-07  9.94e-01   -1.031639098e+00  -1.031638222e+00  1.9e-05  0.03  \n",
      "7   1.2e-05  2.5e-06  4.8e-09  1.01e+00   -1.031686081e+00  -1.031686327e+00  2.5e-06  0.03  \n",
      "8   1.7e-06  3.5e-07  2.6e-10  1.03e+00   -1.031690068e+00  -1.031690126e+00  3.5e-07  0.03  \n",
      "9   2.9e-07  5.8e-08  1.8e-11  1.03e+00   -1.031690623e+00  -1.031690637e+00  5.8e-08  0.03  \n",
      "10  5.8e-08  1.2e-08  1.7e-12  1.03e+00   -1.031690713e+00  -1.031690717e+00  1.2e-08  0.03  \n",
      "11  1.5e-08  3.5e-09  2.3e-13  1.09e+00   -1.031690736e+00  -1.031690736e+00  3.1e-09  0.03  \n",
      "12  5.9e-09  1.1e-09  4.3e-14  9.95e-01   -1.031690737e+00  -1.031690737e+00  9.6e-10  0.03  \n",
      "13  1.8e-09  9.0e-10  2.6e-15  9.97e-01   -1.031690736e+00  -1.031690736e+00  1.5e-10  0.03  \n",
      "Optimizer terminated. Time: 0.03    \n",
      "\n",
      "\n",
      "Interior-point solution summary\n",
      "  Problem status  : PRIMAL_AND_DUAL_FEASIBLE\n",
      "  Solution status : OPTIMAL\n",
      "  Primal.  obj: -1.0316907357e+00   nrm: 4e+00    Viol.  con: 2e-09    var: 0e+00    barvar: 0e+00  \n",
      "  Dual.    obj: -1.0316907357e+00   nrm: 2e+00    Viol.  con: 0e+00    var: 9e-11    barvar: 1e-09  \n"
     ]
    }
   ],
   "source": [
    "Xp, Zp, tp, yp, solsta = Polyopt.solve_mosek(probp);"
   ]
  },
  {
   "cell_type": "markdown",
   "metadata": {},
   "source": [
    "We get (approximately) the same optimal lower bound"
   ]
  },
  {
   "cell_type": "code",
   "execution_count": 13,
   "metadata": {},
   "outputs": [
    {
     "data": {
      "text/plain": [
       "-1.0316907357007523"
      ]
     },
     "execution_count": 13,
     "metadata": {},
     "output_type": "execute_result"
    }
   ],
   "source": [
    "tp"
   ]
  },
  {
   "cell_type": "code",
   "execution_count": 14,
   "metadata": {},
   "outputs": [
    {
     "data": {
      "text/plain": [
       "28×2 Array{Main.Polyopt.Poly{Float64},2}:\n",
       " 1.0      1.0\n",
       " z        -0.712659\n",
       " z^2      0.507887\n",
       " z^3      -0.36195\n",
       " z^4      0.257949\n",
       " z^5      -0.18383\n",
       " z^6      1.74484\n",
       " x        0.0898296\n",
       " x*z      -0.0640184\n",
       " x*z^2    0.0456233\n",
       " x*z^3    -0.0325141\n",
       " x*z^4    0.0231715\n",
       " x*z^5    -0.0152742\n",
       " ⋮        \n",
       " x^2*z^3  -0.00292073\n",
       " x^2*z^4  0.00344771\n",
       " x^3      0.000724872\n",
       " x^3*z    -0.000516593\n",
       " x^3*z^2  0.000368153\n",
       " x^3*z^3  -0.000261158\n",
       " x^4      6.51215e-5\n",
       " x^4*z    -4.64051e-5\n",
       " x^4*z^2  3.43284e-5\n",
       " x^5      5.84931e-6\n",
       " x^5*z    -4.17325e-6\n",
       " x^6      5.46421e-7"
      ]
     },
     "execution_count": 14,
     "metadata": {},
     "output_type": "execute_result"
    }
   ],
   "source": [
    "[probp.basis yp]"
   ]
  },
  {
   "cell_type": "markdown",
   "metadata": {},
   "source": [
    "Now we have found a global minimizer, and can we verify optimality by evaluating $f(x,z)$ at that point"
   ]
  },
  {
   "cell_type": "code",
   "execution_count": 15,
   "metadata": {},
   "outputs": [
    {
     "data": {
      "text/plain": [
       "2-element Array{Float64,1}:\n",
       "  0.08982955117272301\n",
       " -0.7126589268498063"
      ]
     },
     "execution_count": 15,
     "metadata": {},
     "output_type": "execute_result"
    }
   ],
   "source": [
    "xo = [yp[8], yp[2]]"
   ]
  },
  {
   "cell_type": "code",
   "execution_count": 16,
   "metadata": {},
   "outputs": [
    {
     "data": {
      "text/plain": [
       "-1.0316284528008068"
      ]
     },
     "execution_count": 16,
     "metadata": {},
     "output_type": "execute_result"
    }
   ],
   "source": [
    "Polyopt.evalpoly(f, xo)"
   ]
  },
  {
   "cell_type": "markdown",
   "metadata": {},
   "source": [
    "## Plotting the solution"
   ]
  },
  {
   "cell_type": "code",
   "execution_count": 42,
   "metadata": {},
   "outputs": [
    {
     "name": "stderr",
     "output_type": "stream",
     "text": [
      "┌ Info: Precompiling PyPlot [d330b81b-6aea-500a-939a-2ce795aea3ee]\n",
      "└ @ Base loading.jl:1278\n",
      "ERROR: LoadError: LoadError: PyCall not properly installed. Please run Pkg.build(\"PyCall\")\n",
      "Stacktrace:\n",
      " [1] error(::String) at .\\error.jl:33\n",
      " [2] top-level scope at C:\\Users\\SSRL_X1Yoga\\.julia\\packages\\PyCall\\zqDXB\\src\\startup.jl:44\n",
      " [3] include(::Function, ::Module, ::String) at .\\Base.jl:380\n",
      " [4] include at .\\Base.jl:368 [inlined]\n",
      " [5] include(::String) at C:\\Users\\SSRL_X1Yoga\\.julia\\packages\\PyCall\\zqDXB\\src\\PyCall.jl:1\n",
      " [6] top-level scope at C:\\Users\\SSRL_X1Yoga\\.julia\\packages\\PyCall\\zqDXB\\src\\PyCall.jl:34\n",
      " [7] include(::Function, ::Module, ::String) at .\\Base.jl:380\n",
      " [8] include(::Module, ::String) at .\\Base.jl:368\n",
      " [9] top-level scope at none:2\n",
      " [10] eval at .\\boot.jl:331 [inlined]\n",
      " [11] eval(::Expr) at .\\client.jl:467\n",
      " [12] top-level scope at .\\none:3\n",
      "in expression starting at C:\\Users\\SSRL_X1Yoga\\.julia\\packages\\PyCall\\zqDXB\\src\\startup.jl:41\n",
      "in expression starting at C:\\Users\\SSRL_X1Yoga\\.julia\\packages\\PyCall\\zqDXB\\src\\PyCall.jl:34\n",
      "ERROR: LoadError: Failed to precompile PyCall [438e738f-606a-5dbb-bf0a-cddfbfd45ab0] to C:\\Users\\SSRL_X1Yoga\\.julia\\compiled\\v1.5\\PyCall\\GkzkC_VkVUF.ji.\n",
      "Stacktrace:\n",
      " [1] error(::String) at .\\error.jl:33\n",
      " [2] compilecache(::Base.PkgId, ::String) at .\\loading.jl:1290\n",
      " [3] _require(::Base.PkgId) at .\\loading.jl:1030\n",
      " [4] require(::Base.PkgId) at .\\loading.jl:928\n",
      " [5] require(::Module, ::Symbol) at .\\loading.jl:923\n",
      " [6] include(::Function, ::Module, ::String) at .\\Base.jl:380\n",
      " [7] include(::Module, ::String) at .\\Base.jl:368\n",
      " [8] top-level scope at none:2\n",
      " [9] eval at .\\boot.jl:331 [inlined]\n",
      " [10] eval(::Expr) at .\\client.jl:467\n",
      " [11] top-level scope at .\\none:3\n",
      "in expression starting at C:\\Users\\SSRL_X1Yoga\\.julia\\packages\\PyPlot\\XHEG0\\src\\PyPlot.jl:4\n"
     ]
    },
    {
     "ename": "ErrorException",
     "evalue": "Failed to precompile PyPlot [d330b81b-6aea-500a-939a-2ce795aea3ee] to C:\\Users\\SSRL_X1Yoga\\.julia\\compiled\\v1.5\\PyPlot\\oatAj_VkVUF.ji.",
     "output_type": "error",
     "traceback": [
      "Failed to precompile PyPlot [d330b81b-6aea-500a-939a-2ce795aea3ee] to C:\\Users\\SSRL_X1Yoga\\.julia\\compiled\\v1.5\\PyPlot\\oatAj_VkVUF.ji.",
      "",
      "Stacktrace:",
      " [1] error(::String) at .\\error.jl:33",
      " [2] compilecache(::Base.PkgId, ::String) at .\\loading.jl:1290",
      " [3] _require(::Base.PkgId) at .\\loading.jl:1030",
      " [4] require(::Base.PkgId) at .\\loading.jl:928",
      " [5] require(::Module, ::Symbol) at .\\loading.jl:923",
      " [6] top-level scope at In[42]:1"
     ]
    }
   ],
   "source": [
    "using PyPlot\n",
    "\n",
    "n = 100\n",
    "X = linspace(-1.5, 1.5, n)\n",
    "Z = linspace(-1, 1, n)\n",
    "\n",
    "Xgrid = repmat(X',n,1)\n",
    "Zgrid = repmat(Z,1,n)\n",
    "T = zeros(n,n)\n",
    "\n",
    "for i in 1:n\n",
    "    for j in 1:n\n",
    "        T[i:i,j:j] = Polyopt.evalpoly(f, [X[j];Z[i]])\n",
    "    end\n",
    "end\n",
    "\n",
    "fig = figure(figsize=(15,10))\n",
    "ax = fig[:gca](projection = \"3d\") \n",
    "ax[:plot_surface](Xgrid, Zgrid, T, rstride=2, edgecolors=\"k\", cstride=2, cmap=ColorMap(\"gray\"), linewidth=0.25)\n",
    "ax[:view_init](20.0, 55.0)\n",
    "ax[:contour](Xgrid, Zgrid, T, 15, offset=-2.0, colors=\"black\")\n",
    "ax[:plot]( [xo[1]], [xo[2]], -2.0, \"ro\")\n",
    "xlabel(\"x\") \n",
    "ylabel(\"z\")\n"
   ]
  },
  {
   "cell_type": "markdown",
   "metadata": {},
   "source": [
    "## Inspecting problem data and validating solutions"
   ]
  },
  {
   "cell_type": "markdown",
   "metadata": {},
   "source": [
    "The monomial basis vector defining the problem stored is stored in <code>prob.basis</code>,"
   ]
  },
  {
   "cell_type": "code",
   "execution_count": 18,
   "metadata": {},
   "outputs": [
    {
     "data": {
      "text/plain": [
       "28-element Array{Main.Polyopt.Poly{Int64},1}:\n",
       " 1\n",
       " z\n",
       " z^2\n",
       " z^3\n",
       " z^4\n",
       " z^5\n",
       " z^6\n",
       " x\n",
       " x*z\n",
       " x*z^2\n",
       " x*z^3\n",
       " x*z^4\n",
       " x*z^5\n",
       " ⋮\n",
       " x^2*z^3\n",
       " x^2*z^4\n",
       " x^3\n",
       " x^3*z\n",
       " x^3*z^2\n",
       " x^3*z^3\n",
       " x^4\n",
       " x^4*z\n",
       " x^4*z^2\n",
       " x^5\n",
       " x^5*z\n",
       " x^6"
      ]
     },
     "execution_count": 18,
     "metadata": {},
     "output_type": "execute_result"
    }
   ],
   "source": [
    "prob.basis"
   ]
  },
  {
   "cell_type": "markdown",
   "metadata": {},
   "source": [
    "The coefficients for $f$ are stored in <code>prob.obj</code>,"
   ]
  },
  {
   "cell_type": "code",
   "execution_count": 20,
   "metadata": {},
   "outputs": [
    {
     "data": {
      "text/plain": [
       "-4//1*z^2+4//1*z^4+x*z+4//1*x^2-21//10*x^4+1//3*x^6"
      ]
     },
     "execution_count": 20,
     "metadata": {},
     "output_type": "execute_result"
    }
   ],
   "source": [
    "using LinearAlgebra\n",
    "dot(prob.obj, prob.basis)"
   ]
  },
  {
   "cell_type": "markdown",
   "metadata": {},
   "source": [
    "The symmetric matrices defining the moment matrix are stored in <code>prob.mom[1]</code> column by column,"
   ]
  },
  {
   "cell_type": "code",
   "execution_count": 21,
   "metadata": {},
   "outputs": [
    {
     "data": {
      "text/plain": [
       "(100, 28)"
      ]
     },
     "execution_count": 21,
     "metadata": {},
     "output_type": "execute_result"
    }
   ],
   "source": [
    "size(prob.mom[1])"
   ]
  },
  {
   "cell_type": "code",
   "execution_count": 22,
   "metadata": {},
   "outputs": [
    {
     "data": {
      "text/plain": [
       "10×10 Array{Main.Polyopt.Poly{Int64},2}:\n",
       " 1      z        z^2      z^3      …  x*z^2    x^2      x^2*z    x^3\n",
       " z      z^2      z^3      z^4         x*z^3    x^2*z    x^2*z^2  x^3*z\n",
       " z^2    z^3      z^4      z^5         x*z^4    x^2*z^2  x^2*z^3  x^3*z^2\n",
       " z^3    z^4      z^5      z^6         x*z^5    x^2*z^3  x^2*z^4  x^3*z^3\n",
       " x      x*z      x*z^2    x*z^3       x^2*z^2  x^3      x^3*z    x^4\n",
       " x*z    x*z^2    x*z^3    x*z^4    …  x^2*z^3  x^3*z    x^3*z^2  x^4*z\n",
       " x*z^2  x*z^3    x*z^4    x*z^5       x^2*z^4  x^3*z^2  x^3*z^3  x^4*z^2\n",
       " x^2    x^2*z    x^2*z^2  x^2*z^3     x^3*z^2  x^4      x^4*z    x^5\n",
       " x^2*z  x^2*z^2  x^2*z^3  x^2*z^4     x^3*z^3  x^4*z    x^4*z^2  x^5*z\n",
       " x^3    x^3*z    x^3*z^2  x^3*z^3     x^4*z^2  x^5      x^5*z    x^6"
      ]
     },
     "execution_count": 22,
     "metadata": {},
     "output_type": "execute_result"
    }
   ],
   "source": [
    "reshape(prob.mom[1]*prob.basis, 10, 10)"
   ]
  },
  {
   "cell_type": "markdown",
   "metadata": {},
   "source": [
    "and similarly the moment matrix evaluated at <code>yp</code> is"
   ]
  },
  {
   "cell_type": "code",
   "execution_count": 23,
   "metadata": {},
   "outputs": [
    {
     "data": {
      "text/plain": [
       "10×10 Array{Float64,2}:\n",
       "  1.0          -0.712659      0.507887     …  -0.00575074    0.000724872\n",
       " -0.712659      0.507887     -0.36195          0.00409835   -0.000516593\n",
       "  0.507887     -0.36195       0.257949        -0.00292073    0.000368153\n",
       " -0.36195       0.257949     -0.18383          0.00344771   -0.000261158\n",
       "  0.0898296    -0.0640184     0.0456233       -0.000516593   6.51215e-5\n",
       " -0.0640184     0.0456233    -0.0325141    …   0.000368153  -4.64051e-5\n",
       "  0.0456233    -0.0325141     0.0231715       -0.000261158   3.43284e-5\n",
       "  0.00806942   -0.00575074    0.00409835      -4.64051e-5    5.84931e-6\n",
       " -0.00575074    0.00409835   -0.00292073       3.43284e-5   -4.17325e-6\n",
       "  0.000724872  -0.000516593   0.000368153     -4.17325e-6    5.46421e-7"
      ]
     },
     "execution_count": 23,
     "metadata": {},
     "output_type": "execute_result"
    }
   ],
   "source": [
    "M=reshape(prob.mom[1]*yp, 10, 10)"
   ]
  },
  {
   "cell_type": "code",
   "execution_count": 24,
   "metadata": {},
   "outputs": [
    {
     "data": {
      "text/plain": [
       "10-element Array{Float64,1}:\n",
       " -1.572970461346444e-10\n",
       " -1.3245633424888838e-10\n",
       "  3.40129763387874e-10\n",
       "  6.775164202499686e-9\n",
       "  2.0986177927422714e-8\n",
       "  1.0095377866225661e-7\n",
       "  2.983768841811685e-6\n",
       "  0.0013636478363331184\n",
       "  1.279301207656423\n",
       "  2.2457282327103076"
      ]
     },
     "execution_count": 24,
     "metadata": {},
     "output_type": "execute_result"
    }
   ],
   "source": [
    "eigvals(Symmetric(M,:L))"
   ]
  },
  {
   "cell_type": "markdown",
   "metadata": {},
   "source": [
    "The (primal) solution is a semidefinite matrix"
   ]
  },
  {
   "cell_type": "code",
   "execution_count": 25,
   "metadata": {},
   "outputs": [
    {
     "data": {
      "text/plain": [
       "10×10 Array{Float64,2}:\n",
       "  1.03169      5.0e-5       -2.02972      …   1.61009e-6    4.90678e-6\n",
       "  5.0e-5       0.0594342     1.66473e-9       6.59838e-5   -0.138037\n",
       " -2.02972      1.66473e-9    4.0              6.71587e-8   -2.97174e-5\n",
       " -1.64045e-9  -1.64208e-8    7.0699e-16      -3.01777e-7   -3.60485e-8\n",
       "  5.0e-5       0.472062     -2.3808e-5        0.000556943  -1.09757\n",
       "  0.0279382    2.38261e-5   -0.000109563  …   2.96292e-5   -2.46812e-5\n",
       " -1.80409e-8   0.000109713   3.11638e-8       3.60485e-8   -0.000266334\n",
       "  0.123363    -0.00022846   -0.227397         2.46812e-5    4.06733e-14\n",
       "  1.61009e-6   6.59838e-5    6.71587e-8       0.000532669  -1.67153e-14\n",
       "  4.90678e-6  -0.138037     -2.97174e-5      -1.67153e-14   0.333333"
      ]
     },
     "execution_count": 25,
     "metadata": {},
     "output_type": "execute_result"
    }
   ],
   "source": [
    "Xp[1]"
   ]
  },
  {
   "cell_type": "code",
   "execution_count": 26,
   "metadata": {},
   "outputs": [
    {
     "data": {
      "text/plain": [
       "10-element Array{Float64,1}:\n",
       " 3.8318778335459125e-11\n",
       " 1.5554630145283757e-10\n",
       " 3.912576349696899e-7\n",
       " 8.324109709348872e-5\n",
       " 0.000530368585633566\n",
       " 0.011411329871909962\n",
       " 0.03678937636755653\n",
       " 0.49903572588666717\n",
       " 4.134571760097218\n",
       " 5.0438975853336485"
      ]
     },
     "execution_count": 26,
     "metadata": {},
     "output_type": "execute_result"
    }
   ],
   "source": [
    "eigvals(Xp[1])"
   ]
  },
  {
   "cell_type": "markdown",
   "metadata": {},
   "source": [
    "If we store <code>Xp[1]</code> in vectorized form (conforming with <code>prob.mom</code>),"
   ]
  },
  {
   "cell_type": "code",
   "execution_count": 27,
   "metadata": {},
   "outputs": [
    {
     "data": {
      "text/plain": [
       "100-element Array{Float64,1}:\n",
       "  1.0316907351055058\n",
       "  4.9999992268596276e-5\n",
       " -2.0297170774608477\n",
       " -1.6404486229619693e-9\n",
       "  4.9999986492786656e-5\n",
       "  0.02793817380745451\n",
       " -1.804085792409456e-8\n",
       "  0.12336326977614287\n",
       "  1.610087937997323e-6\n",
       "  4.906779559234484e-6\n",
       "  4.9999992268596276e-5\n",
       "  0.05943415729640462\n",
       "  1.6647259736083284e-9\n",
       "  ⋮\n",
       "  0.0005326686013626235\n",
       " -1.6715340713750928e-14\n",
       "  4.906779559234484e-6\n",
       " -0.1380367850344982\n",
       " -2.9717381027328975e-5\n",
       " -3.6048451555222184e-8\n",
       " -1.097568493916393\n",
       " -2.4681165422627605e-5\n",
       " -0.0002663341955465123\n",
       "  4.0673339826663514e-14\n",
       " -1.6715340713750928e-14\n",
       "  0.333333333474375"
      ]
     },
     "execution_count": 27,
     "metadata": {},
     "output_type": "execute_result"
    }
   ],
   "source": [
    "xp = vec(Xp[1])"
   ]
  },
  {
   "cell_type": "markdown",
   "metadata": {},
   "source": [
    "then we can verify that "
   ]
  },
  {
   "cell_type": "code",
   "execution_count": 41,
   "metadata": {},
   "outputs": [
    {
     "data": {
      "text/plain": [
       "28-element SparseArrays.SparseVector{Float64,Int64} with 28 stored entries:\n",
       "  [1 ]  =  -5.95247e-10\n",
       "  [2 ]  =  0.0001\n",
       "  [3 ]  =  2.37471e-9\n",
       "  [4 ]  =  4.85547e-11\n",
       "  [5 ]  =  -1.04794e-9\n",
       "  [6 ]  =  1.41398e-15\n",
       "  [7 ]  =  2.10275e-10\n",
       "  [8 ]  =  0.0001\n",
       "  [9 ]  =  -1.95199e-10\n",
       "  [10]  =  8.26899e-11\n",
       "        ⋮\n",
       "  [18]  =  2.10275e-10\n",
       "  [19]  =  4.6247e-11\n",
       "  [20]  =  6.30662e-13\n",
       "  [21]  =  -9.84954e-11\n",
       "  [22]  =  -5.65148e-17\n",
       "  [23]  =  6.28805e-10\n",
       "  [24]  =  2.58053e-12\n",
       "  [25]  =  2.1027e-10\n",
       "  [26]  =  8.13467e-14\n",
       "  [27]  =  -3.34307e-14\n",
       "  [28]  =  1.41042e-10"
      ]
     },
     "execution_count": 41,
     "metadata": {},
     "output_type": "execute_result"
    }
   ],
   "source": [
    "onevec = zeros(28)\n",
    "onevec[1] = 1\n",
    "prob.mom[1]'*xp - (prob.obj - tp*onevec)"
   ]
  },
  {
   "cell_type": "code",
   "execution_count": null,
   "metadata": {},
   "outputs": [],
   "source": []
  }
 ],
 "metadata": {
  "anaconda-cloud": {},
  "kernelspec": {
   "display_name": "Julia 1.5.0",
   "language": "julia",
   "name": "julia-1.5"
  },
  "language_info": {
   "file_extension": ".jl",
   "mimetype": "application/julia",
   "name": "julia",
   "version": "1.5.0"
  }
 },
 "nbformat": 4,
 "nbformat_minor": 1
}
